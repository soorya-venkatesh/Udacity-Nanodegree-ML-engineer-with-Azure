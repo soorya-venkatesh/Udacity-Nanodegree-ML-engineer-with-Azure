{
  "cells": [
    {
      "cell_type": "markdown",
      "source": [
        "# Automated ML\n",
        "\n",
        "TODO: Import Dependencies. In the cell below, import all the dependencies that you will need to complete the project."
      ],
      "metadata": {}
    },
    {
      "cell_type": "code",
      "source": [
        "from train import clean_data\r\n",
        "from sklearn.model_selection import train_test_split\r\n",
        "from azureml.data.dataset_factory import TabularDatasetFactory\r\n",
        "from azureml.core import Workspace, Experiment,Environment\r\n",
        "import pandas as pd\r\n",
        "from azureml.core.dataset import Dataset"
      ],
      "outputs": [],
      "execution_count": 1,
      "metadata": {
        "jupyter": {
          "source_hidden": false,
          "outputs_hidden": false
        },
        "nteract": {
          "transient": {
            "deleting": false
          }
        },
        "gather": {
          "logged": 1645118681004
        }
      }
    },
    {
      "cell_type": "code",
      "source": [
        "\r\n",
        "\r\n",
        "ws = Workspace.from_config()\r\n",
        "exp = Experiment(workspace=ws, name=\"automl-run-1\")\r\n",
        "\r\n",
        "\r\n",
        "print('Workspace name: ' + ws.name, \r\n",
        "      'Azure region: ' + ws.location, \r\n",
        "      'Subscription id: ' + ws.subscription_id, \r\n",
        "      'Resource group: ' + ws.resource_group, sep = '\\n')\r\n",
        "\r\n",
        "run = exp.start_logging()"
      ],
      "outputs": [
        {
          "output_type": "stream",
          "name": "stdout",
          "text": "Workspace name: quick-starts-ws-186279\nAzure region: southcentralus\nSubscription id: f9d5a085-54dc-4215-9ba6-dad5d86e60a0\nResource group: aml-quickstarts-186279\n"
        }
      ],
      "execution_count": 2,
      "metadata": {
        "gather": {
          "logged": 1645118684379
        },
        "jupyter": {
          "outputs_hidden": false,
          "source_hidden": false
        },
        "nteract": {
          "transient": {
            "deleting": false
          }
        }
      }
    },
    {
      "cell_type": "markdown",
      "source": [
        "## Dataset\n",
        "\n",
        "### Overview\n",
        "TODO: In this markdown cell, give an overview of the dataset you are using. Also mention the task you will be performing.\n",
        "\n",
        "\n",
        "TODO: Get data. In the cell below, write code to access the data you will be using in this project. Remember that the dataset needs to be external."
      ],
      "metadata": {}
    },
    {
      "cell_type": "code",
      "source": [
        "from azureml.core.compute import ComputeTarget, AmlCompute\n",
        "from azureml.core.compute_target import ComputeTargetException\n",
        "\n",
        "\n",
        "# Choose a name for your CPU cluster\n",
        "cpu_cluster_name = \"compute-test\"\n",
        "\n",
        "# Verify that cluster does not exist already\n",
        "try:\n",
        "    cpu_cluster = ComputeTarget(workspace=ws, name=cpu_cluster_name)\n",
        "    print('Found existing cluster, use it.')\n",
        "except ComputeTargetException:\n",
        "    # To use a different region for the compute, add a location='<region>' parameter\n",
        "    compute_config = AmlCompute.provisioning_configuration(vm_size='STANDARD_D2_V2',\n",
        "                                                           max_nodes=4)\n",
        "    cpu_cluster = ComputeTarget.create(ws, cpu_cluster_name, compute_config)\n",
        "\n",
        "cpu_cluster.wait_for_completion(show_output=True)"
      ],
      "outputs": [
        {
          "output_type": "stream",
          "name": "stdout",
          "text": "Found existing cluster, use it.\nSucceeded\nAmlCompute wait for completion finished\n\nMinimum number of nodes requested have been provisioned\n"
        }
      ],
      "execution_count": 3,
      "metadata": {
        "gather": {
          "logged": 1645118691175
        },
        "jupyter": {
          "outputs_hidden": false,
          "source_hidden": false
        },
        "nteract": {
          "transient": {
            "deleting": false
          }
        }
      }
    },
    {
      "cell_type": "code",
      "source": [
        "filepath=\"https://raw.githubusercontent.com/soorya-venkatesh/nd00333-capstone/master/starter_file/Telco_customer_churn.csv\"\r\n",
        "ds = TabularDatasetFactory.from_delimited_files(path = filepath)\r\n",
        "\r\n",
        "df=ds.to_pandas_dataframe()\r\n",
        "df.head(3)"
      ],
      "outputs": [
        {
          "output_type": "execute_result",
          "execution_count": 6,
          "data": {
            "text/plain": "   CustomerID  Count        Country       State         City  Zip Code  \\\n0  3668-QPYBK      1  United States  California  Los Angeles     90003   \n1  9237-HQITU      1  United States  California  Los Angeles     90005   \n2  9305-CDSKC      1  United States  California  Los Angeles     90006   \n\n                 Lat Long   Latitude   Longitude  Gender  ...        Contract  \\\n0  33.964131, -118.272783  33.964131 -118.272783    Male  ...  Month-to-month   \n1   34.059281, -118.30742  34.059281 -118.307420  Female  ...  Month-to-month   \n2  34.048013, -118.293953  34.048013 -118.293953  Female  ...  Month-to-month   \n\n   Paperless Billing    Payment Method  Monthly Charges  Total Charges  \\\n0               True      Mailed check            53.85         108.15   \n1               True  Electronic check            70.70         151.65   \n2               True  Electronic check            99.65         820.50   \n\n  Churn Label Churn Value Churn Score  CLTV                  Churn Reason  \n0        True           1          86  3239  Competitor made better offer  \n1        True           1          67  2701                         Moved  \n2        True           1          86  5372                         Moved  \n\n[3 rows x 33 columns]",
            "text/html": "<div>\n<style scoped>\n    .dataframe tbody tr th:only-of-type {\n        vertical-align: middle;\n    }\n\n    .dataframe tbody tr th {\n        vertical-align: top;\n    }\n\n    .dataframe thead th {\n        text-align: right;\n    }\n</style>\n<table border=\"1\" class=\"dataframe\">\n  <thead>\n    <tr style=\"text-align: right;\">\n      <th></th>\n      <th>CustomerID</th>\n      <th>Count</th>\n      <th>Country</th>\n      <th>State</th>\n      <th>City</th>\n      <th>Zip Code</th>\n      <th>Lat Long</th>\n      <th>Latitude</th>\n      <th>Longitude</th>\n      <th>Gender</th>\n      <th>...</th>\n      <th>Contract</th>\n      <th>Paperless Billing</th>\n      <th>Payment Method</th>\n      <th>Monthly Charges</th>\n      <th>Total Charges</th>\n      <th>Churn Label</th>\n      <th>Churn Value</th>\n      <th>Churn Score</th>\n      <th>CLTV</th>\n      <th>Churn Reason</th>\n    </tr>\n  </thead>\n  <tbody>\n    <tr>\n      <th>0</th>\n      <td>3668-QPYBK</td>\n      <td>1</td>\n      <td>United States</td>\n      <td>California</td>\n      <td>Los Angeles</td>\n      <td>90003</td>\n      <td>33.964131, -118.272783</td>\n      <td>33.964131</td>\n      <td>-118.272783</td>\n      <td>Male</td>\n      <td>...</td>\n      <td>Month-to-month</td>\n      <td>True</td>\n      <td>Mailed check</td>\n      <td>53.85</td>\n      <td>108.15</td>\n      <td>True</td>\n      <td>1</td>\n      <td>86</td>\n      <td>3239</td>\n      <td>Competitor made better offer</td>\n    </tr>\n    <tr>\n      <th>1</th>\n      <td>9237-HQITU</td>\n      <td>1</td>\n      <td>United States</td>\n      <td>California</td>\n      <td>Los Angeles</td>\n      <td>90005</td>\n      <td>34.059281, -118.30742</td>\n      <td>34.059281</td>\n      <td>-118.307420</td>\n      <td>Female</td>\n      <td>...</td>\n      <td>Month-to-month</td>\n      <td>True</td>\n      <td>Electronic check</td>\n      <td>70.70</td>\n      <td>151.65</td>\n      <td>True</td>\n      <td>1</td>\n      <td>67</td>\n      <td>2701</td>\n      <td>Moved</td>\n    </tr>\n    <tr>\n      <th>2</th>\n      <td>9305-CDSKC</td>\n      <td>1</td>\n      <td>United States</td>\n      <td>California</td>\n      <td>Los Angeles</td>\n      <td>90006</td>\n      <td>34.048013, -118.293953</td>\n      <td>34.048013</td>\n      <td>-118.293953</td>\n      <td>Female</td>\n      <td>...</td>\n      <td>Month-to-month</td>\n      <td>True</td>\n      <td>Electronic check</td>\n      <td>99.65</td>\n      <td>820.50</td>\n      <td>True</td>\n      <td>1</td>\n      <td>86</td>\n      <td>5372</td>\n      <td>Moved</td>\n    </tr>\n  </tbody>\n</table>\n<p>3 rows × 33 columns</p>\n</div>"
          },
          "metadata": {}
        }
      ],
      "execution_count": 6,
      "metadata": {
        "jupyter": {
          "source_hidden": false,
          "outputs_hidden": false
        },
        "nteract": {
          "transient": {
            "deleting": false
          }
        },
        "gather": {
          "logged": 1645118729995
        }
      }
    },
    {
      "cell_type": "markdown",
      "source": [
        "## AutoML Configuration\n",
        "\n",
        "TODO: Explain why you chose the automl settings and cofiguration you used below."
      ],
      "metadata": {}
    },
    {
      "cell_type": "code",
      "source": [
        "\r\n",
        "df['Total Charges']=pd.to_numeric(df['Total Charges'], errors='coerce')\r\n",
        "df['Total Charges'].fillna(df['Total Charges'].median(),inplace=True)\r\n",
        "df.drop(['CustomerID' ,'Count' ,'Country' ,'State' ,'Lat Long' ,'Latitude' ,'Longitude','Zip Code','Churn Label','Churn Score','Streaming TV', 'Streaming Movies','Tenure Months', 'CLTV', 'Churn Reason'], axis=1, inplace=True)\r\n",
        "\r\n",
        "df.to_csv('cleaned_data1.csv', index = False)\r\n",
        "\r\n",
        "datastore = ws.get_default_datastore()\r\n",
        "datastore.upload_files(files = ['./cleaned_data1.csv'])\r\n",
        "\r\n",
        "ds = Dataset.Tabular.from_delimited_files([(datastore, 'cleaned_data1.csv')])"
      ],
      "outputs": [
        {
          "output_type": "stream",
          "name": "stdout",
          "text": "Uploading an estimated of 1 files\nUploading ./cleaned_data1.csv\nUploaded ./cleaned_data1.csv, 1 files out of an estimated total of 1\nUploaded 1 files\n"
        }
      ],
      "execution_count": 7,
      "metadata": {
        "jupyter": {
          "source_hidden": false,
          "outputs_hidden": false
        },
        "nteract": {
          "transient": {
            "deleting": false
          }
        },
        "gather": {
          "logged": 1645118735472
        }
      }
    },
    {
      "cell_type": "code",
      "source": [
        "df.columns"
      ],
      "outputs": [
        {
          "output_type": "execute_result",
          "execution_count": 8,
          "data": {
            "text/plain": "Index(['City', 'Gender', 'Senior Citizen', 'Partner', 'Dependents',\n       'Phone Service', 'Multiple Lines', 'Internet Service',\n       'Online Security', 'Online Backup', 'Device Protection', 'Tech Support',\n       'Contract', 'Paperless Billing', 'Payment Method', 'Monthly Charges',\n       'Total Charges', 'Churn Value'],\n      dtype='object')"
          },
          "metadata": {}
        }
      ],
      "execution_count": 8,
      "metadata": {
        "jupyter": {
          "source_hidden": false,
          "outputs_hidden": false
        },
        "nteract": {
          "transient": {
            "deleting": false
          }
        },
        "gather": {
          "logged": 1645118739192
        }
      }
    },
    {
      "cell_type": "code",
      "source": [
        "print(df['Monthly Charges'].dtype,df['Tenure Months'].dtype,df['Total Charges'].dtype)"
      ],
      "outputs": [
        {
          "output_type": "stream",
          "name": "stdout",
          "text": "float64 int64 float64\n"
        }
      ],
      "execution_count": 30,
      "metadata": {
        "jupyter": {
          "source_hidden": false,
          "outputs_hidden": false
        },
        "nteract": {
          "transient": {
            "deleting": false
          }
        },
        "gather": {
          "logged": 1645117561845
        }
      }
    },
    {
      "cell_type": "code",
      "source": [
        "from azureml.train.automl import AutoMLConfig\n",
        "automl_settings = {\n",
        "       \"n_cross_validations\": 3,\n",
        "       \"primary_metric\": 'AUC_weighted',\n",
        "       \"enable_early_stopping\": True,\n",
        "       \"experiment_timeout_minutes\": 15,\n",
        "       \"max_concurrent_iterations\": 6\n",
        "   }\n",
        "\n",
        "# automl config \n",
        "automl_config = AutoMLConfig(task = \"classification\",\n",
        "                               compute_target = cpu_cluster,\n",
        "                               training_data = ds,\n",
        "                               label_column_name = \"Churn Value\",\n",
        "                               **automl_settings\n",
        "                            )"
      ],
      "outputs": [],
      "execution_count": 10,
      "metadata": {
        "gather": {
          "logged": 1645118755088
        },
        "jupyter": {
          "outputs_hidden": false,
          "source_hidden": false
        },
        "nteract": {
          "transient": {
            "deleting": false
          }
        }
      }
    },
    {
      "cell_type": "code",
      "source": [
        "# TODO: Submit your experiment\n",
        "\n",
        "remote_run = exp.submit(automl_config,show_output=True)\n"
      ],
      "outputs": [
        {
          "output_type": "stream",
          "name": "stdout",
          "text": "Submitting remote run.\nNo run_configuration provided, running on compute-test with default configuration\nRunning on remote compute: compute-test\n"
        },
        {
          "output_type": "display_data",
          "data": {
            "text/plain": "<IPython.core.display.HTML object>",
            "text/html": "<table style=\"width:100%\"><tr><th>Experiment</th><th>Id</th><th>Type</th><th>Status</th><th>Details Page</th><th>Docs Page</th></tr><tr><td>automl-run-1</td><td>AutoML_dc879c9a-5ebe-458b-a4a9-9a81f456c7f2</td><td>automl</td><td>NotStarted</td><td><a href=\"https://ml.azure.com/runs/AutoML_dc879c9a-5ebe-458b-a4a9-9a81f456c7f2?wsid=/subscriptions/f9d5a085-54dc-4215-9ba6-dad5d86e60a0/resourcegroups/aml-quickstarts-186279/workspaces/quick-starts-ws-186279&amp;tid=660b3398-b80e-49d2-bc5b-ac1dc93b5254\" target=\"_blank\" rel=\"noopener\">Link to Azure Machine Learning studio</a></td><td><a href=\"https://docs.microsoft.com/en-us/python/api/overview/azure/ml/intro?view=azure-ml-py\" target=\"_blank\" rel=\"noopener\">Link to Documentation</a></td></tr></table>"
          },
          "metadata": {}
        },
        {
          "output_type": "stream",
          "name": "stdout",
          "text": "\nCurrent status: FeaturesGeneration. Generating features for the dataset.\nCurrent status: ModelSelection. Beginning model selection.\n\n********************************************************************************************\nDATA GUARDRAILS: \n\nTYPE:         Class balancing detection\nSTATUS:       PASSED\nDESCRIPTION:  Your inputs were analyzed, and all classes are balanced in your training data.\n              Learn more about imbalanced data: https://aka.ms/AutomatedMLImbalancedData\n\n********************************************************************************************\n\nTYPE:         Missing feature values imputation\nSTATUS:       PASSED\nDESCRIPTION:  No feature missing values were detected in the training data.\n              Learn more about missing value imputation: https://aka.ms/AutomatedMLFeaturization\n\n********************************************************************************************\n\nTYPE:         High cardinality feature detection\nSTATUS:       PASSED\nDESCRIPTION:  Your inputs were analyzed, and no high cardinality features were detected.\n              Learn more about high cardinality feature handling: https://aka.ms/AutomatedMLFeaturization\n\n********************************************************************************************\n\n********************************************************************************************\nITER: The iteration being evaluated.\nPIPELINE: A summary description of the pipeline being evaluated.\nDURATION: Time taken for the current iteration.\nMETRIC: The result of computing score on the fitted pipeline.\nBEST: The best observed score thus far.\n********************************************************************************************\n\n ITER   PIPELINE                                       DURATION            METRIC      BEST\n    0   MaxAbsScaler LightGBM                          0:00:09             0.8505    0.8505\n    1   MaxAbsScaler XGBoostClassifier                 0:00:10             0.8618    0.8618\n    2   MaxAbsScaler ExtremeRandomTrees                0:00:08             0.8396    0.8618\n    3   MaxAbsScaler RandomForest                      0:00:09             0.6851    0.8618\n    8   SparseNormalizer XGBoostClassifier             0:00:09             0.8483    0.8618\n    9   MaxAbsScaler RandomForest                      0:00:09             0.7643    0.8618\n   10   SparseNormalizer LightGBM                      0:00:08             0.8517    0.8618\n    4   StandardScalerWrapper LightGBM                 0:00:08             0.8543    0.8618\n    5   SparseNormalizer XGBoostClassifier             0:00:09             0.8532    0.8618\n    6   SparseNormalizer RandomForest                  0:00:09             0.8399    0.8618\n    7   StandardScalerWrapper XGBoostClassifier        0:00:11             0.8452    0.8618\n   11   MaxAbsScaler ExtremeRandomTrees                0:00:10             0.8201    0.8618\n   12   StandardScalerWrapper XGBoostClassifier        0:00:09             0.8621    0.8621\n   13   StandardScalerWrapper ExtremeRandomTrees       0:00:08             0.8324    0.8621\n   14   StandardScalerWrapper RandomForest             0:00:18             0.8405    0.8621\n   15   MaxAbsScaler LightGBM                          0:00:08             0.8574    0.8621\n   17   StandardScalerWrapper ExtremeRandomTrees       0:00:20             0.8488    0.8621\n   16   MaxAbsScaler LogisticRegression                0:00:09             0.7861    0.8621\n   18   StandardScalerWrapper XGBoostClassifier        0:00:09             0.8556    0.8621\n   19   MaxAbsScaler ExtremeRandomTrees                0:00:09             0.8326    0.8621\n   21   StandardScalerWrapper XGBoostClassifier        0:00:04             0.8550    0.8621\n   22   StandardScalerWrapper XGBoostClassifier        0:00:03             0.8610    0.8621\n   23   MaxAbsScaler RandomForest                      0:00:04             0.8383    0.8621\n   20   MaxAbsScaler LogisticRegression                0:00:04             0.7929    0.8621\n   24   SparseNormalizer XGBoostClassifier             0:00:04             0.8535    0.8621\n   28   StandardScalerWrapper XGBoostClassifier        0:00:04             0.8573    0.8621\n   25   TruncatedSVDWrapper XGBoostClassifier          0:00:03             0.8378    0.8621\n   26   SparseNormalizer XGBoostClassifier             0:00:04             0.8449    0.8621\n   27   StandardScalerWrapper XGBoostClassifier        0:00:04             0.8452    0.8621\n   29   SparseNormalizer XGBoostClassifier             0:00:04             0.8516    0.8621\n   30   SparseNormalizer XGBoostClassifier             0:00:04             0.8575    0.8621\n   31   SparseNormalizer LightGBM                      0:00:04             0.8602    0.8621\n   32   SparseNormalizer LightGBM                      0:00:04             0.8575    0.8621\n   33   SparseNormalizer LightGBM                      0:00:04             0.8516    0.8621\n   34   StandardScalerWrapper LightGBM                 0:00:04             0.8531    0.8621\n   35                                                  0:00:00                nan    0.8621\n   36                                                  0:00:01                nan    0.8621\n   37                                                  0:00:06                nan    0.8621\n   39    StackEnsemble                                 0:00:04             0.8642    0.8642\n   38    VotingEnsemble                                0:00:04             0.8648    0.8648\n"
        }
      ],
      "execution_count": 11,
      "metadata": {
        "gather": {
          "logged": 1645119498003
        },
        "jupyter": {
          "outputs_hidden": false,
          "source_hidden": false
        },
        "nteract": {
          "transient": {
            "deleting": false
          }
        }
      }
    },
    {
      "cell_type": "markdown",
      "source": [
        "## Run Details\n",
        "\n",
        "OPTIONAL: Write about the different models trained and their performance. Why do you think some models did better than others?\n",
        "\n",
        "TODO: In the cell below, use the `RunDetails` widget to show the different experiments."
      ],
      "metadata": {}
    },
    {
      "cell_type": "code",
      "source": [
        "from azureml.widgets import RunDetails\r\n",
        "RunDetails(remote_run).show()"
      ],
      "outputs": [
        {
          "output_type": "display_data",
          "data": {
            "text/plain": "_AutoMLWidget(widget_settings={'childWidgetDisplay': 'popup', 'send_telemetry': False, 'log_level': 'INFO', 's…",
            "application/vnd.jupyter.widget-view+json": {
              "version_major": 2,
              "version_minor": 0,
              "model_id": "f2445ed8af844cafa2a8aa83096a8833"
            }
          },
          "metadata": {}
        },
        {
          "output_type": "display_data",
          "data": {
            "application/aml.mini.widget.v1": "{\"status\": \"Completed\", \"workbench_run_details_uri\": \"https://ml.azure.com/runs/AutoML_dc879c9a-5ebe-458b-a4a9-9a81f456c7f2?wsid=/subscriptions/f9d5a085-54dc-4215-9ba6-dad5d86e60a0/resourcegroups/aml-quickstarts-186279/workspaces/quick-starts-ws-186279&tid=660b3398-b80e-49d2-bc5b-ac1dc93b5254\", \"run_id\": \"AutoML_dc879c9a-5ebe-458b-a4a9-9a81f456c7f2\", \"run_properties\": {\"run_id\": \"AutoML_dc879c9a-5ebe-458b-a4a9-9a81f456c7f2\", \"created_utc\": \"2022-02-17T17:25:59.766645Z\", \"properties\": {\"num_iterations\": \"1000\", \"training_type\": \"TrainFull\", \"acquisition_function\": \"EI\", \"primary_metric\": \"AUC_weighted\", \"train_split\": \"0\", \"acquisition_parameter\": \"0\", \"num_cross_validation\": \"3\", \"target\": \"compute-test\", \"AMLSettingsJsonString\": \"{\\\"path\\\":null,\\\"name\\\":\\\"automl-run-1\\\",\\\"subscription_id\\\":\\\"f9d5a085-54dc-4215-9ba6-dad5d86e60a0\\\",\\\"resource_group\\\":\\\"aml-quickstarts-186279\\\",\\\"workspace_name\\\":\\\"quick-starts-ws-186279\\\",\\\"region\\\":\\\"southcentralus\\\",\\\"compute_target\\\":\\\"compute-test\\\",\\\"spark_service\\\":null,\\\"azure_service\\\":\\\"remote\\\",\\\"many_models\\\":false,\\\"pipeline_fetch_max_batch_size\\\":1,\\\"enable_batch_run\\\":true,\\\"enable_run_restructure\\\":false,\\\"start_auxiliary_runs_before_parent_complete\\\":false,\\\"enable_code_generation\\\":false,\\\"iterations\\\":1000,\\\"primary_metric\\\":\\\"AUC_weighted\\\",\\\"task_type\\\":\\\"classification\\\",\\\"positive_label\\\":null,\\\"data_script\\\":null,\\\"test_size\\\":0.0,\\\"test_include_predictions_only\\\":false,\\\"validation_size\\\":0.0,\\\"n_cross_validations\\\":3,\\\"y_min\\\":null,\\\"y_max\\\":null,\\\"num_classes\\\":null,\\\"featurization\\\":\\\"auto\\\",\\\"_ignore_package_version_incompatibilities\\\":false,\\\"is_timeseries\\\":false,\\\"max_cores_per_iteration\\\":1,\\\"max_concurrent_iterations\\\":6,\\\"iteration_timeout_minutes\\\":null,\\\"mem_in_mb\\\":null,\\\"enforce_time_on_windows\\\":false,\\\"experiment_timeout_minutes\\\":15,\\\"experiment_exit_score\\\":null,\\\"whitelist_models\\\":null,\\\"blacklist_algos\\\":[\\\"TensorFlowLinearClassifier\\\",\\\"TensorFlowDNN\\\"],\\\"supported_models\\\":[\\\"GradientBoosting\\\",\\\"LightGBM\\\",\\\"LinearSVM\\\",\\\"RandomForest\\\",\\\"LogisticRegression\\\",\\\"SVM\\\",\\\"XGBoostClassifier\\\",\\\"TensorFlowLinearClassifier\\\",\\\"DecisionTree\\\",\\\"BernoulliNaiveBayes\\\",\\\"TabnetClassifier\\\",\\\"KNN\\\",\\\"TensorFlowDNN\\\",\\\"SGD\\\",\\\"ExtremeRandomTrees\\\",\\\"AveragedPerceptronClassifier\\\",\\\"MultinomialNaiveBayes\\\"],\\\"private_models\\\":[],\\\"auto_blacklist\\\":true,\\\"blacklist_samples_reached\\\":false,\\\"exclude_nan_labels\\\":true,\\\"verbosity\\\":20,\\\"_debug_log\\\":\\\"azureml_automl.log\\\",\\\"show_warnings\\\":false,\\\"model_explainability\\\":true,\\\"service_url\\\":null,\\\"sdk_url\\\":null,\\\"sdk_packages\\\":null,\\\"enable_onnx_compatible_models\\\":false,\\\"enable_split_onnx_featurizer_estimator_models\\\":false,\\\"vm_type\\\":\\\"STANDARD_DS13_V2\\\",\\\"telemetry_verbosity\\\":20,\\\"send_telemetry\\\":true,\\\"enable_dnn\\\":false,\\\"scenario\\\":\\\"SDK-1.13.0\\\",\\\"environment_label\\\":null,\\\"save_mlflow\\\":false,\\\"enable_categorical_indicators\\\":false,\\\"force_text_dnn\\\":false,\\\"enable_feature_sweeping\\\":true,\\\"enable_early_stopping\\\":true,\\\"early_stopping_n_iters\\\":10,\\\"arguments\\\":null,\\\"dataset_id\\\":null,\\\"hyperdrive_config\\\":null,\\\"validation_dataset_id\\\":null,\\\"run_source\\\":null,\\\"metrics\\\":null,\\\"enable_metric_confidence\\\":false,\\\"enable_ensembling\\\":true,\\\"enable_stack_ensembling\\\":true,\\\"ensemble_iterations\\\":15,\\\"enable_tf\\\":false,\\\"enable_subsampling\\\":null,\\\"subsample_seed\\\":null,\\\"enable_nimbusml\\\":false,\\\"enable_streaming\\\":false,\\\"force_streaming\\\":false,\\\"track_child_runs\\\":true,\\\"allowed_private_models\\\":[],\\\"label_column_name\\\":\\\"Churn Value\\\",\\\"weight_column_name\\\":null,\\\"cv_split_column_names\\\":null,\\\"enable_local_managed\\\":false,\\\"_local_managed_run_id\\\":null,\\\"cost_mode\\\":1,\\\"lag_length\\\":0,\\\"metric_operation\\\":\\\"maximize\\\",\\\"preprocess\\\":true}\", \"DataPrepJsonString\": \"{\\\\\\\"training_data\\\\\\\": {\\\\\\\"datasetId\\\\\\\": \\\\\\\"49959dc6-7eb4-40ce-a0dd-a614d7c214f8\\\\\\\"}, \\\\\\\"datasets\\\\\\\": 0}\", \"EnableSubsampling\": null, \"runTemplate\": \"AutoML\", \"azureml.runsource\": \"automl\", \"display_task_type\": \"classification\", \"dependencies_versions\": \"{\\\"azureml-widgets\\\": \\\"1.38.0\\\", \\\"azureml-train\\\": \\\"1.38.0\\\", \\\"azureml-train-restclients-hyperdrive\\\": \\\"1.38.0\\\", \\\"azureml-train-core\\\": \\\"1.38.0\\\", \\\"azureml-train-automl-client\\\": \\\"1.38.0\\\", \\\"azureml-tensorboard\\\": \\\"1.38.0\\\", \\\"azureml-telemetry\\\": \\\"1.38.0\\\", \\\"azureml-sdk\\\": \\\"1.38.0\\\", \\\"azureml-samples\\\": \\\"0+unknown\\\", \\\"azureml-responsibleai\\\": \\\"1.38.0\\\", \\\"azureml-pipeline\\\": \\\"1.38.0\\\", \\\"azureml-pipeline-steps\\\": \\\"1.38.0\\\", \\\"azureml-pipeline-core\\\": \\\"1.38.0\\\", \\\"azureml-opendatasets\\\": \\\"1.38.0\\\", \\\"azureml-mlflow\\\": \\\"1.38.0\\\", \\\"azureml-interpret\\\": \\\"1.38.0\\\", \\\"azureml-inference-server-http\\\": \\\"0.4.2\\\", \\\"azureml-explain-model\\\": \\\"1.38.0\\\", \\\"azureml-defaults\\\": \\\"1.38.0\\\", \\\"azureml-dataset-runtime\\\": \\\"1.38.0\\\", \\\"azureml-dataprep\\\": \\\"2.26.0\\\", \\\"azureml-dataprep-rslex\\\": \\\"2.2.0\\\", \\\"azureml-dataprep-native\\\": \\\"38.0.0\\\", \\\"azureml-datadrift\\\": \\\"1.38.0\\\", \\\"azureml-core\\\": \\\"1.38.0\\\", \\\"azureml-contrib-services\\\": \\\"1.38.0\\\", \\\"azureml-contrib-server\\\": \\\"1.38.0\\\", \\\"azureml-contrib-reinforcementlearning\\\": \\\"1.38.0\\\", \\\"azureml-contrib-pipeline-steps\\\": \\\"1.38.0\\\", \\\"azureml-contrib-notebook\\\": \\\"1.38.0\\\", \\\"azureml-contrib-fairness\\\": \\\"1.38.0\\\", \\\"azureml-contrib-dataset\\\": \\\"1.38.0\\\", \\\"azureml-cli-common\\\": \\\"1.38.0\\\", \\\"azureml-automl-core\\\": \\\"1.38.0\\\", \\\"azureml-accel-models\\\": \\\"1.38.0\\\"}\", \"_aml_system_scenario_identification\": \"Remote.Parent\", \"ClientType\": \"SDK\", \"environment_cpu_name\": \"AzureML-AutoML\", \"environment_cpu_label\": \"py36\", \"environment_gpu_name\": \"AzureML-AutoML-GPU\", \"environment_gpu_label\": \"py36\", \"root_attribution\": \"automl\", \"attribution\": \"AutoML\", \"Orchestrator\": \"AutoML\", \"CancelUri\": \"https://southcentralus.api.azureml.ms/jasmine/v1.0/subscriptions/f9d5a085-54dc-4215-9ba6-dad5d86e60a0/resourceGroups/aml-quickstarts-186279/providers/Microsoft.MachineLearningServices/workspaces/quick-starts-ws-186279/experimentids/75106b2b-98b8-409e-b503-217cbc0eaa15/cancel/AutoML_dc879c9a-5ebe-458b-a4a9-9a81f456c7f2\", \"ClientSdkVersion\": \"1.38.0\", \"snapshotId\": \"00000000-0000-0000-0000-000000000000\", \"SetupRunId\": \"AutoML_dc879c9a-5ebe-458b-a4a9-9a81f456c7f2_setup\", \"SetupRunContainerId\": \"dcid.AutoML_dc879c9a-5ebe-458b-a4a9-9a81f456c7f2_setup\", \"FeaturizationRunJsonPath\": \"featurizer_container.json\", \"FeaturizationRunId\": \"AutoML_dc879c9a-5ebe-458b-a4a9-9a81f456c7f2_featurize\", \"ProblemInfoJsonString\": \"{\\\"dataset_num_categorical\\\": 0, \\\"is_sparse\\\": true, \\\"subsampling\\\": false, \\\"has_extra_col\\\": true, \\\"dataset_classes\\\": 2, \\\"dataset_features\\\": 1057, \\\"dataset_samples\\\": 7043, \\\"single_frequency_class_detected\\\": false}\", \"ModelExplainRunId\": \"AutoML_dc879c9a-5ebe-458b-a4a9-9a81f456c7f2_ModelExplain\"}, \"tags\": {\"model_explain_run\": \"best_run\", \"_aml_system_azureml.automlComponent\": \"AutoML\", \"pipeline_id\": \"\", \"score\": \"\", \"predicted_cost\": \"\", \"fit_time\": \"\", \"training_percent\": \"\", \"iteration\": \"\", \"run_preprocessor\": \"\", \"run_algorithm\": \"\", \"dynamic_whitelisting_iterations\": \"<25>;<30>;<35>;\", \"_aml_system_azureml.automl_early_exit_message\": \"No scores improved over last 20 iterations, so experiment stopped early. This early stopping behavior can be disabled by setting enable_early_stopping = False in AutoMLConfig for notebook/python SDK runs.\", \"automl_best_child_run_id\": \"AutoML_dc879c9a-5ebe-458b-a4a9-9a81f456c7f2_38\", \"model_explain_best_run_child_id\": \"AutoML_dc879c9a-5ebe-458b-a4a9-9a81f456c7f2_38\"}, \"end_time_utc\": \"2022-02-17T17:38:02.129208Z\", \"status\": \"Completed\", \"log_files\": {}, \"log_groups\": [], \"run_duration\": \"0:12:02\", \"run_number\": \"1645118759\", \"run_queued_details\": {\"status\": \"Completed\", \"details\": null}}, \"child_runs\": [{\"run_id\": \"AutoML_dc879c9a-5ebe-458b-a4a9-9a81f456c7f2_setup\", \"run_number\": 1645118772, \"metric\": null, \"status\": \"Completed\", \"run_type\": \"azureml.scriptrun\", \"training_percent\": null, \"start_time\": \"2022-02-17T17:26:52.347656Z\", \"end_time\": \"2022-02-17T17:26:55.901828Z\", \"created_time\": \"2022-02-17T17:26:12.508777Z\", \"created_time_dt\": \"2022-02-17T17:26:12.508777Z\", \"duration\": \"0:00:43\", \"iteration\": null, \"goal\": null, \"run_name\": \"Completed\", \"run_properties\": null}, {\"run_id\": \"AutoML_dc879c9a-5ebe-458b-a4a9-9a81f456c7f2_featurize\", \"run_number\": 1645118816, \"metric\": null, \"status\": \"Completed\", \"run_type\": \"automl.featurization\", \"training_percent\": null, \"start_time\": \"2022-02-17T17:26:56.739696Z\", \"end_time\": \"2022-02-17T17:27:39.609036Z\", \"created_time\": \"2022-02-17T17:26:56.315624Z\", \"created_time_dt\": \"2022-02-17T17:26:56.315624Z\", \"duration\": \"0:00:43\", \"iteration\": null, \"goal\": null, \"run_name\": \"Completed\", \"run_properties\": null}, {\"run_id\": \"AutoML_dc879c9a-5ebe-458b-a4a9-9a81f456c7f2_0\", \"run_number\": 1645118861, \"metric\": null, \"status\": \"Completed\", \"run_type\": null, \"training_percent\": \"100\", \"start_time\": \"2022-02-17T17:27:59.752013Z\", \"end_time\": \"2022-02-17T17:28:08.443458Z\", \"created_time\": \"2022-02-17T17:27:41.699787Z\", \"created_time_dt\": \"2022-02-17T17:27:41.699787Z\", \"duration\": \"0:00:26\", \"iteration\": \"0\", \"goal\": \"AUC_weighted_max\", \"run_name\": \"MaxAbsScaler, LightGBM\", \"run_properties\": \"copy=True\", \"primary_metric\": 0.85047674, \"best_metric\": 0.85047674}, {\"run_id\": \"AutoML_dc879c9a-5ebe-458b-a4a9-9a81f456c7f2_1\", \"run_number\": 1645118863, \"metric\": null, \"status\": \"Completed\", \"run_type\": null, \"training_percent\": \"100\", \"start_time\": \"2022-02-17T17:28:08.637321Z\", \"end_time\": \"2022-02-17T17:28:18.265429Z\", \"created_time\": \"2022-02-17T17:27:43.355129Z\", \"created_time_dt\": \"2022-02-17T17:27:43.355129Z\", \"duration\": \"0:00:34\", \"iteration\": \"1\", \"goal\": \"AUC_weighted_max\", \"run_name\": \"MaxAbsScaler, XGBoostClassifier\", \"run_properties\": \"copy=True\", \"primary_metric\": 0.86178078, \"best_metric\": 0.86178078}, {\"run_id\": \"AutoML_dc879c9a-5ebe-458b-a4a9-9a81f456c7f2_3\", \"run_number\": 1645118864, \"metric\": null, \"status\": \"Completed\", \"run_type\": null, \"training_percent\": \"100\", \"start_time\": \"2022-02-17T17:28:26.768451Z\", \"end_time\": \"2022-02-17T17:28:35.800828Z\", \"created_time\": \"2022-02-17T17:27:44.459115Z\", \"created_time_dt\": \"2022-02-17T17:27:44.459115Z\", \"duration\": \"0:00:51\", \"iteration\": \"3\", \"goal\": \"AUC_weighted_max\", \"run_name\": \"MaxAbsScaler, RandomForest\", \"run_properties\": \"copy=True\", \"primary_metric\": 0.68514009, \"best_metric\": 0.86178078}, {\"run_id\": \"AutoML_dc879c9a-5ebe-458b-a4a9-9a81f456c7f2_4\", \"run_number\": 1645118865, \"metric\": null, \"status\": \"Completed\", \"run_type\": null, \"training_percent\": \"100\", \"start_time\": \"2022-02-17T17:29:39.686863Z\", \"end_time\": \"2022-02-17T17:29:47.788766Z\", \"created_time\": \"2022-02-17T17:27:45.982571Z\", \"created_time_dt\": \"2022-02-17T17:27:45.982571Z\", \"duration\": \"0:02:01\", \"iteration\": \"4\", \"goal\": \"AUC_weighted_max\", \"run_name\": \"StandardScalerWrapper, LightGBM\", \"run_properties\": \"\\n    copy=True,\\n    with_mean=False,\\n    with_std=True\\n\", \"primary_metric\": 0.85433218, \"best_metric\": 0.86178078}, {\"run_id\": \"AutoML_dc879c9a-5ebe-458b-a4a9-9a81f456c7f2_5\", \"run_number\": 1645118866, \"metric\": null, \"status\": \"Completed\", \"run_type\": null, \"training_percent\": \"100\", \"start_time\": \"2022-02-17T17:29:47.961784Z\", \"end_time\": \"2022-02-17T17:29:56.574178Z\", \"created_time\": \"2022-02-17T17:27:46.52677Z\", \"created_time_dt\": \"2022-02-17T17:27:46.52677Z\", \"duration\": \"0:02:10\", \"iteration\": \"5\", \"goal\": \"AUC_weighted_max\", \"run_name\": \"SparseNormalizer, XGBoostClassifier\", \"run_properties\": \"copy=True, norm='max'\", \"primary_metric\": 0.85317703, \"best_metric\": 0.86178078}, {\"run_id\": \"AutoML_dc879c9a-5ebe-458b-a4a9-9a81f456c7f2_worker_1\", \"run_number\": 1645118867, \"metric\": null, \"status\": \"Completed\", \"run_type\": \"azureml.scriptrun\", \"training_percent\": null, \"start_time\": \"2022-02-17T17:29:53.679485Z\", \"end_time\": \"2022-02-17T17:30:21.858214Z\", \"created_time\": \"2022-02-17T17:27:47.8657Z\", \"created_time_dt\": \"2022-02-17T17:27:47.8657Z\", \"duration\": \"0:02:33\", \"iteration\": null, \"goal\": null, \"run_name\": \"Completed\", \"run_properties\": null}, {\"run_id\": \"AutoML_dc879c9a-5ebe-458b-a4a9-9a81f456c7f2_8\", \"run_number\": 1645118868, \"metric\": null, \"status\": \"Completed\", \"run_type\": null, \"training_percent\": \"100\", \"start_time\": \"2022-02-17T17:28:54.419181Z\", \"end_time\": \"2022-02-17T17:29:03.624664Z\", \"created_time\": \"2022-02-17T17:27:48.035135Z\", \"created_time_dt\": \"2022-02-17T17:27:48.035135Z\", \"duration\": \"0:01:15\", \"iteration\": \"8\", \"goal\": \"AUC_weighted_max\", \"run_name\": \"SparseNormalizer, XGBoostClassifier\", \"run_properties\": \"copy=True, norm='max'\", \"primary_metric\": 0.84830972, \"best_metric\": 0.86178078}, {\"run_id\": \"AutoML_dc879c9a-5ebe-458b-a4a9-9a81f456c7f2_10\", \"run_number\": 1645118869, \"metric\": null, \"status\": \"Completed\", \"run_type\": null, \"training_percent\": \"100\", \"start_time\": \"2022-02-17T17:29:13.130586Z\", \"end_time\": \"2022-02-17T17:29:21.489968Z\", \"created_time\": \"2022-02-17T17:27:49.415745Z\", \"created_time_dt\": \"2022-02-17T17:27:49.415745Z\", \"duration\": \"0:01:32\", \"iteration\": \"10\", \"goal\": \"AUC_weighted_max\", \"run_name\": \"SparseNormalizer, LightGBM\", \"run_properties\": \"copy=True, norm='l1'\", \"primary_metric\": 0.85170818, \"best_metric\": 0.86178078}, {\"run_id\": \"AutoML_dc879c9a-5ebe-458b-a4a9-9a81f456c7f2_11\", \"run_number\": 1645118870, \"metric\": null, \"status\": \"Completed\", \"run_type\": null, \"training_percent\": \"100\", \"start_time\": \"2022-02-17T17:30:35.132189Z\", \"end_time\": \"2022-02-17T17:30:45.468646Z\", \"created_time\": \"2022-02-17T17:27:50.919654Z\", \"created_time_dt\": \"2022-02-17T17:27:50.919654Z\", \"duration\": \"0:02:54\", \"iteration\": \"11\", \"goal\": \"AUC_weighted_max\", \"run_name\": \"MaxAbsScaler, ExtremeRandomTrees\", \"run_properties\": \"copy=True\", \"primary_metric\": 0.82010942, \"best_metric\": 0.86178078}, {\"run_id\": \"AutoML_dc879c9a-5ebe-458b-a4a9-9a81f456c7f2_12\", \"run_number\": 1645118871, \"metric\": null, \"status\": \"Completed\", \"run_type\": null, \"training_percent\": \"100\", \"start_time\": \"2022-02-17T17:30:45.657549Z\", \"end_time\": \"2022-02-17T17:30:54.809814Z\", \"created_time\": \"2022-02-17T17:27:51.40618Z\", \"created_time_dt\": \"2022-02-17T17:27:51.40618Z\", \"duration\": \"0:03:03\", \"iteration\": \"12\", \"goal\": \"AUC_weighted_max\", \"run_name\": \"StandardScalerWrapper, XGBoostClassifier\", \"run_properties\": \"\\n    copy=True,\\n    with_mean=False,\\n    with_std=False\\n\", \"primary_metric\": 0.86212806, \"best_metric\": 0.86212806}, {\"run_id\": \"AutoML_dc879c9a-5ebe-458b-a4a9-9a81f456c7f2_worker_3\", \"run_number\": 1645118872, \"metric\": null, \"status\": \"Completed\", \"run_type\": \"azureml.scriptrun\", \"training_percent\": null, \"start_time\": \"2022-02-17T17:31:04.364173Z\", \"end_time\": \"2022-02-17T17:31:07.917954Z\", \"created_time\": \"2022-02-17T17:27:52.209693Z\", \"created_time_dt\": \"2022-02-17T17:27:52.209693Z\", \"duration\": \"0:03:15\", \"iteration\": null, \"goal\": null, \"run_name\": \"Completed\", \"run_properties\": null}, {\"run_id\": \"AutoML_dc879c9a-5ebe-458b-a4a9-9a81f456c7f2_16\", \"run_number\": 1645118873, \"metric\": null, \"status\": \"Completed\", \"run_type\": null, \"training_percent\": \"100\", \"start_time\": \"2022-02-17T17:32:10.774252Z\", \"end_time\": \"2022-02-17T17:32:19.609237Z\", \"created_time\": \"2022-02-17T17:27:53.772315Z\", \"created_time_dt\": \"2022-02-17T17:27:53.772315Z\", \"duration\": \"0:04:25\", \"iteration\": \"16\", \"goal\": \"AUC_weighted_max\", \"run_name\": \"MaxAbsScaler, LogisticRegression\", \"run_properties\": \"copy=True\", \"primary_metric\": 0.78605076, \"best_metric\": 0.86212806}, {\"run_id\": \"AutoML_dc879c9a-5ebe-458b-a4a9-9a81f456c7f2_17\", \"run_number\": 1645118874, \"metric\": null, \"status\": \"Completed\", \"run_type\": null, \"training_percent\": \"100\", \"start_time\": \"2022-02-17T17:31:48.844145Z\", \"end_time\": \"2022-02-17T17:32:09.122462Z\", \"created_time\": \"2022-02-17T17:27:54.305614Z\", \"created_time_dt\": \"2022-02-17T17:27:54.305614Z\", \"duration\": \"0:04:14\", \"iteration\": \"17\", \"goal\": \"AUC_weighted_max\", \"run_name\": \"StandardScalerWrapper, ExtremeRandomTrees\", \"run_properties\": \"\\n    copy=True,\\n    with_mean=False,\\n    with_std=True\\n\", \"primary_metric\": 0.84883113, \"best_metric\": 0.86212806}, {\"run_id\": \"AutoML_dc879c9a-5ebe-458b-a4a9-9a81f456c7f2_worker_5\", \"run_number\": 1645118875, \"metric\": null, \"status\": \"Completed\", \"run_type\": \"azureml.scriptrun\", \"training_percent\": null, \"start_time\": \"2022-02-17T17:31:05.506576Z\", \"end_time\": \"2022-02-17T17:32:32.08325Z\", \"created_time\": \"2022-02-17T17:27:55.672077Z\", \"created_time_dt\": \"2022-02-17T17:27:55.672077Z\", \"duration\": \"0:04:36\", \"iteration\": null, \"goal\": null, \"run_name\": \"Completed\", \"run_properties\": null}, {\"run_id\": \"AutoML_dc879c9a-5ebe-458b-a4a9-9a81f456c7f2_21\", \"run_number\": 1645119125, \"metric\": null, \"status\": \"Completed\", \"run_type\": \"azureml.scriptrun\", \"training_percent\": \"100\", \"start_time\": \"2022-02-17T17:32:31.920512Z\", \"end_time\": \"2022-02-17T17:32:35.471058Z\", \"created_time\": \"2022-02-17T17:32:05.546471Z\", \"created_time_dt\": \"2022-02-17T17:32:05.546471Z\", \"duration\": \"0:00:29\", \"iteration\": \"21\", \"goal\": \"AUC_weighted_max\", \"run_name\": \"StandardScalerWrapper, XGBoostClassifier\", \"run_properties\": \"\\n    copy=True,\\n    with_mean=False,\\n    with_std=False\\n\", \"primary_metric\": 0.85500512, \"best_metric\": 0.86212806}, {\"run_id\": \"AutoML_dc879c9a-5ebe-458b-a4a9-9a81f456c7f2_24\", \"run_number\": 1645119151, \"metric\": null, \"status\": \"Completed\", \"run_type\": \"azureml.scriptrun\", \"training_percent\": \"100\", \"start_time\": \"2022-02-17T17:33:25.372229Z\", \"end_time\": \"2022-02-17T17:33:28.910352Z\", \"created_time\": \"2022-02-17T17:32:31.851447Z\", \"created_time_dt\": \"2022-02-17T17:32:31.851447Z\", \"duration\": \"0:00:57\", \"iteration\": \"24\", \"goal\": \"AUC_weighted_max\", \"run_name\": \"SparseNormalizer, XGBoostClassifier\", \"run_properties\": \"copy=True, norm='max'\", \"primary_metric\": 0.8534539, \"best_metric\": 0.86212806}, {\"run_id\": \"AutoML_dc879c9a-5ebe-458b-a4a9-9a81f456c7f2_25\", \"run_number\": 1645119161, \"metric\": null, \"status\": \"Completed\", \"run_type\": \"azureml.scriptrun\", \"training_percent\": \"100\", \"start_time\": \"2022-02-17T17:34:42.541162Z\", \"end_time\": \"2022-02-17T17:34:46.024177Z\", \"created_time\": \"2022-02-17T17:32:41.600042Z\", \"created_time_dt\": \"2022-02-17T17:32:41.600042Z\", \"duration\": \"0:02:04\", \"iteration\": \"25\", \"goal\": \"AUC_weighted_max\", \"run_name\": \"TruncatedSVDWrapper, XGBoostClassifier\", \"run_properties\": \"n_components=0.6531578947368422, random_state=None\", \"primary_metric\": 0.83783401, \"best_metric\": 0.86212806}, {\"run_id\": \"AutoML_dc879c9a-5ebe-458b-a4a9-9a81f456c7f2_26\", \"run_number\": 1645119165, \"metric\": null, \"status\": \"Completed\", \"run_type\": \"azureml.scriptrun\", \"training_percent\": \"100\", \"start_time\": \"2022-02-17T17:34:45.75466Z\", \"end_time\": \"2022-02-17T17:34:49.290435Z\", \"created_time\": \"2022-02-17T17:32:45.179063Z\", \"created_time_dt\": \"2022-02-17T17:32:45.179063Z\", \"duration\": \"0:02:04\", \"iteration\": \"26\", \"goal\": \"AUC_weighted_max\", \"run_name\": \"SparseNormalizer, XGBoostClassifier\", \"run_properties\": \"copy=True, norm='l2'\", \"primary_metric\": 0.84489102, \"best_metric\": 0.86212806}, {\"run_id\": \"AutoML_dc879c9a-5ebe-458b-a4a9-9a81f456c7f2_27\", \"run_number\": 1645119176, \"metric\": null, \"status\": \"Completed\", \"run_type\": \"azureml.scriptrun\", \"training_percent\": \"100\", \"start_time\": \"2022-02-17T17:34:41.616175Z\", \"end_time\": \"2022-02-17T17:34:45.170222Z\", \"created_time\": \"2022-02-17T17:32:56.532519Z\", \"created_time_dt\": \"2022-02-17T17:32:56.532519Z\", \"duration\": \"0:01:48\", \"iteration\": \"27\", \"goal\": \"AUC_weighted_max\", \"run_name\": \"StandardScalerWrapper, XGBoostClassifier\", \"run_properties\": \"\\n    copy=True,\\n    with_mean=False,\\n    with_std=False\\n\", \"primary_metric\": 0.84520226, \"best_metric\": 0.86212806}, {\"run_id\": \"AutoML_dc879c9a-5ebe-458b-a4a9-9a81f456c7f2_28\", \"run_number\": 1645119179, \"metric\": null, \"status\": \"Completed\", \"run_type\": \"azureml.scriptrun\", \"training_percent\": \"100\", \"start_time\": \"2022-02-17T17:34:39.617615Z\", \"end_time\": \"2022-02-17T17:34:43.185748Z\", \"created_time\": \"2022-02-17T17:32:59.181791Z\", \"created_time_dt\": \"2022-02-17T17:32:59.181791Z\", \"duration\": \"0:01:44\", \"iteration\": \"28\", \"goal\": \"AUC_weighted_max\", \"run_name\": \"StandardScalerWrapper, XGBoostClassifier\", \"run_properties\": \"\\n    copy=True,\\n    with_mean=False,\\n    with_std=False\\n\", \"primary_metric\": 0.85728867, \"best_metric\": 0.86212806}, {\"run_id\": \"AutoML_dc879c9a-5ebe-458b-a4a9-9a81f456c7f2_29\", \"run_number\": 1645119207, \"metric\": null, \"status\": \"Completed\", \"run_type\": \"azureml.scriptrun\", \"training_percent\": \"100\", \"start_time\": \"2022-02-17T17:35:16.153973Z\", \"end_time\": \"2022-02-17T17:35:19.704716Z\", \"created_time\": \"2022-02-17T17:33:27.915036Z\", \"created_time_dt\": \"2022-02-17T17:33:27.915036Z\", \"duration\": \"0:01:51\", \"iteration\": \"29\", \"goal\": \"AUC_weighted_max\", \"run_name\": \"SparseNormalizer, XGBoostClassifier\", \"run_properties\": \"copy=True, norm='l1'\", \"primary_metric\": 0.85157423, \"best_metric\": 0.86212806}, {\"run_id\": \"AutoML_dc879c9a-5ebe-458b-a4a9-9a81f456c7f2_30\", \"run_number\": 1645119215, \"metric\": null, \"status\": \"Completed\", \"run_type\": \"azureml.scriptrun\", \"training_percent\": \"100\", \"start_time\": \"2022-02-17T17:35:25.447654Z\", \"end_time\": \"2022-02-17T17:35:28.983007Z\", \"created_time\": \"2022-02-17T17:33:35.635434Z\", \"created_time_dt\": \"2022-02-17T17:33:35.635434Z\", \"duration\": \"0:01:53\", \"iteration\": \"30\", \"goal\": \"AUC_weighted_max\", \"run_name\": \"SparseNormalizer, XGBoostClassifier\", \"run_properties\": \"copy=True, norm='max'\", \"primary_metric\": 0.85747672, \"best_metric\": 0.86212806}, {\"run_id\": \"AutoML_dc879c9a-5ebe-458b-a4a9-9a81f456c7f2_31\", \"run_number\": 1645119287, \"metric\": null, \"status\": \"Completed\", \"run_type\": \"azureml.scriptrun\", \"training_percent\": \"100\", \"start_time\": \"2022-02-17T17:36:33.715811Z\", \"end_time\": \"2022-02-17T17:36:37.249346Z\", \"created_time\": \"2022-02-17T17:34:47.118777Z\", \"created_time_dt\": \"2022-02-17T17:34:47.118777Z\", \"duration\": \"0:01:50\", \"iteration\": \"31\", \"goal\": \"AUC_weighted_max\", \"run_name\": \"SparseNormalizer, LightGBM\", \"run_properties\": \"copy=True, norm='l2'\", \"primary_metric\": 0.86016202, \"best_metric\": 0.86212806}, {\"run_id\": \"AutoML_dc879c9a-5ebe-458b-a4a9-9a81f456c7f2_33\", \"run_number\": 1645119291, \"metric\": null, \"status\": \"Completed\", \"run_type\": \"azureml.scriptrun\", \"training_percent\": \"100\", \"start_time\": \"2022-02-17T17:36:33.272313Z\", \"end_time\": \"2022-02-17T17:36:36.905822Z\", \"created_time\": \"2022-02-17T17:34:51.127822Z\", \"created_time_dt\": \"2022-02-17T17:34:51.127822Z\", \"duration\": \"0:01:45\", \"iteration\": \"33\", \"goal\": \"AUC_weighted_max\", \"run_name\": \"SparseNormalizer, LightGBM\", \"run_properties\": \"copy=True, norm='max'\", \"primary_metric\": 0.85159831, \"best_metric\": 0.86212806}, {\"run_id\": \"AutoML_dc879c9a-5ebe-458b-a4a9-9a81f456c7f2_34\", \"run_number\": 1645119297, \"metric\": null, \"status\": \"Completed\", \"run_type\": \"azureml.scriptrun\", \"training_percent\": \"100\", \"start_time\": \"2022-02-17T17:36:33.979794Z\", \"end_time\": \"2022-02-17T17:36:37.536691Z\", \"created_time\": \"2022-02-17T17:34:57.610534Z\", \"created_time_dt\": \"2022-02-17T17:34:57.610534Z\", \"duration\": \"0:01:39\", \"iteration\": \"34\", \"goal\": \"AUC_weighted_max\", \"run_name\": \"StandardScalerWrapper, LightGBM\", \"run_properties\": \"\\n    copy=True,\\n    with_mean=False,\\n    with_std=True\\n\", \"primary_metric\": 0.85314562, \"best_metric\": 0.86212806}, {\"run_id\": \"AutoML_dc879c9a-5ebe-458b-a4a9-9a81f456c7f2_35\", \"run_number\": 1645119323, \"metric\": null, \"status\": \"Canceled\", \"run_type\": \"azureml.scriptrun\", \"training_percent\": \"100\", \"start_time\": \"2022-02-17T17:36:41.026657Z\", \"end_time\": \"2022-02-17T17:36:41.313568Z\", \"created_time\": \"2022-02-17T17:35:23.788979Z\", \"created_time_dt\": \"2022-02-17T17:35:23.788979Z\", \"duration\": \"0:01:17\", \"iteration\": \"35\", \"goal\": null, \"run_name\": \"Canceled\", \"run_properties\": null}, {\"run_id\": \"AutoML_dc879c9a-5ebe-458b-a4a9-9a81f456c7f2_36\", \"run_number\": 1645119330, \"metric\": null, \"status\": \"Canceled\", \"run_type\": \"azureml.scriptrun\", \"training_percent\": \"100\", \"start_time\": \"2022-02-17T17:36:40.896159Z\", \"end_time\": \"2022-02-17T17:36:41.656945Z\", \"created_time\": \"2022-02-17T17:35:30.931605Z\", \"created_time_dt\": \"2022-02-17T17:35:30.931605Z\", \"duration\": \"0:01:10\", \"iteration\": \"36\", \"goal\": null, \"run_name\": \"Canceled\", \"run_properties\": null}, {\"run_id\": \"AutoML_dc879c9a-5ebe-458b-a4a9-9a81f456c7f2_37\", \"run_number\": 1645119398, \"metric\": null, \"status\": \"Canceled\", \"run_type\": \"azureml.scriptrun\", \"training_percent\": \"100\", \"start_time\": \"2022-02-17T17:36:41.088739Z\", \"end_time\": \"2022-02-17T17:36:46.64471Z\", \"created_time\": \"2022-02-17T17:36:38.741943Z\", \"created_time_dt\": \"2022-02-17T17:36:38.741943Z\", \"duration\": \"0:00:07\", \"iteration\": \"37\", \"goal\": null, \"run_name\": \"Canceled\", \"run_properties\": null}, {\"run_id\": \"AutoML_dc879c9a-5ebe-458b-a4a9-9a81f456c7f2_39\", \"run_number\": 1645119407, \"metric\": null, \"status\": \"Completed\", \"run_type\": \"azureml.scriptrun\", \"training_percent\": \"100\", \"start_time\": \"2022-02-17T17:37:31.173787Z\", \"end_time\": \"2022-02-17T17:37:34.732418Z\", \"created_time\": \"2022-02-17T17:36:47.290554Z\", \"created_time_dt\": \"2022-02-17T17:36:47.290554Z\", \"duration\": \"0:00:47\", \"iteration\": \"39\", \"goal\": \"AUC_weighted_max\", \"run_name\": \"StackEnsemble\", \"run_properties\": \"\\n    base_learners=[('12', Pipeline(\\n        memory=None,\\n        steps=[('standardscalerwrapper', StandardScalerWrapper(\\n            copy=True,\\n            with_mean=False,\\n            with_std=False\\n        \", \"primary_metric\": 0.8642376, \"best_metric\": 0.8642376}], \"children_metrics\": {\"categories\": [0], \"series\": {\"norm_macro_recall\": [{\"categories\": [\"0\", \"1\", \"3\", \"4\", \"5\", \"8\", \"10\", \"11\", \"12\", \"16\", \"17\", \"21\", \"24\", \"25\", \"26\", \"27\", \"28\", \"29\", \"30\", \"31\", \"33\", \"34\", \"39\"], \"mode\": \"markers\", \"name\": \"norm_macro_recall\", \"stepped\": false, \"type\": \"scatter\", \"data\": [0.434292263206365, 0.46073363998015293, 0.0, 0.4017626755851041, 0.43601130253348447, 0.42844568268911504, 0.4189176035706394, 0.49140840701401256, 0.462995990698913, 0.4302513621051722, 0.5303170785221126, 0.4478968361074542, 0.43867084052743177, 0.40025439277263675, 0.429202747723802, 0.4193522920599826, 0.44574913184807535, 0.4426636967699525, 0.45260312195359725, 0.4516026295707081, 0.20665332397059108, 0.44923984715379667, 0.4437469791425149]}, {\"categories\": [\"0\", \"1\", \"3\", \"4\", \"5\", \"8\", \"10\", \"11\", \"12\", \"16\", \"17\", \"21\", \"24\", \"25\", \"26\", \"27\", \"28\", \"29\", \"30\", \"31\", \"33\", \"34\", \"39\"], \"mode\": \"lines\", \"name\": \"norm_macro_recall_max\", \"stepped\": true, \"type\": \"scatter\", \"data\": [0.434292263206365, 0.46073363998015293, 0.46073363998015293, 0.46073363998015293, 0.46073363998015293, 0.46073363998015293, 0.46073363998015293, 0.49140840701401256, 0.49140840701401256, 0.49140840701401256, 0.5303170785221126, 0.5303170785221126, 0.5303170785221126, 0.5303170785221126, 0.5303170785221126, 0.5303170785221126, 0.5303170785221126, 0.5303170785221126, 0.5303170785221126, 0.5303170785221126, 0.5303170785221126, 0.5303170785221126, 0.5303170785221126]}], \"AUC_macro\": [{\"categories\": [\"0\", \"1\", \"3\", \"4\", \"5\", \"8\", \"10\", \"11\", \"12\", \"16\", \"17\", \"21\", \"24\", \"25\", \"26\", \"27\", \"28\", \"29\", \"30\", \"31\", \"33\", \"34\", \"39\"], \"mode\": \"markers\", \"name\": \"AUC_macro\", \"stepped\": false, \"type\": \"scatter\", \"data\": [0.8504767406165027, 0.8617807765131835, 0.6851400919521694, 0.8543321818557906, 0.8531770296875568, 0.848309715223836, 0.8517081760223301, 0.8201094212688176, 0.8621280635685932, 0.7860507649226021, 0.8488311330732751, 0.8550051169569416, 0.8534539029591617, 0.8378340136985655, 0.8448910235291445, 0.8452022225937323, 0.857288669044098, 0.8515742330630373, 0.8574767163601037, 0.8601620223326852, 0.8515983140384474, 0.8531456183726066, 0.8642376018041943]}, {\"categories\": [\"0\", \"1\", \"3\", \"4\", \"5\", \"8\", \"10\", \"11\", \"12\", \"16\", \"17\", \"21\", \"24\", \"25\", \"26\", \"27\", \"28\", \"29\", \"30\", \"31\", \"33\", \"34\", \"39\"], \"mode\": \"lines\", \"name\": \"AUC_macro_max\", \"stepped\": true, \"type\": \"scatter\", \"data\": [0.8504767406165027, 0.8617807765131835, 0.8617807765131835, 0.8617807765131835, 0.8617807765131835, 0.8617807765131835, 0.8617807765131835, 0.8617807765131835, 0.8621280635685932, 0.8621280635685932, 0.8621280635685932, 0.8621280635685932, 0.8621280635685932, 0.8621280635685932, 0.8621280635685932, 0.8621280635685932, 0.8621280635685932, 0.8621280635685932, 0.8621280635685932, 0.8621280635685932, 0.8621280635685932, 0.8621280635685932, 0.8642376018041943]}], \"recall_score_micro\": [{\"categories\": [\"0\", \"1\", \"3\", \"4\", \"5\", \"8\", \"10\", \"11\", \"12\", \"16\", \"17\", \"21\", \"24\", \"25\", \"26\", \"27\", \"28\", \"29\", \"30\", \"31\", \"33\", \"34\", \"39\"], \"mode\": \"markers\", \"name\": \"recall_score_micro\", \"stepped\": false, \"type\": \"scatter\", \"data\": [0.799233898216506, 0.8118709423292678, 0.7346310258217446, 0.8025003586924674, 0.8043451751447531, 0.7998023017773482, 0.8053398964981695, 0.7056646432298339, 0.810876402439157, 0.7356243559564847, 0.753514641790225, 0.8036356536199388, 0.8067598468643261, 0.8007965392286165, 0.7951164353251471, 0.7939805960077589, 0.8053395940593268, 0.8007958738631626, 0.8042039362052442, 0.8056241285224749, 0.7807761766262197, 0.8087478983524826, 0.8097412284872227]}, {\"categories\": [\"0\", \"1\", \"3\", \"4\", \"5\", \"8\", \"10\", \"11\", \"12\", \"16\", \"17\", \"21\", \"24\", \"25\", \"26\", \"27\", \"28\", \"29\", \"30\", \"31\", \"33\", \"34\", \"39\"], \"mode\": \"lines\", \"name\": \"recall_score_micro_max\", \"stepped\": true, \"type\": \"scatter\", \"data\": [0.799233898216506, 0.8118709423292678, 0.8118709423292678, 0.8118709423292678, 0.8118709423292678, 0.8118709423292678, 0.8118709423292678, 0.8118709423292678, 0.8118709423292678, 0.8118709423292678, 0.8118709423292678, 0.8118709423292678, 0.8118709423292678, 0.8118709423292678, 0.8118709423292678, 0.8118709423292678, 0.8118709423292678, 0.8118709423292678, 0.8118709423292678, 0.8118709423292678, 0.8118709423292678, 0.8118709423292678, 0.8118709423292678]}], \"f1_score_micro\": [{\"categories\": [\"0\", \"1\", \"3\", \"4\", \"5\", \"8\", \"10\", \"11\", \"12\", \"16\", \"17\", \"21\", \"24\", \"25\", \"26\", \"27\", \"28\", \"29\", \"30\", \"31\", \"33\", \"34\", \"39\"], \"mode\": \"markers\", \"name\": \"f1_score_micro\", \"stepped\": false, \"type\": \"scatter\", \"data\": [0.799233898216506, 0.8118709423292678, 0.7346310258217444, 0.8025003586924674, 0.8043451751447531, 0.7998023017773485, 0.8053398964981696, 0.7056646432298339, 0.810876402439157, 0.7356243559564847, 0.753514641790225, 0.8036356536199388, 0.8067598468643262, 0.8007965392286165, 0.7951164353251471, 0.7939805960077587, 0.8053395940593268, 0.8007958738631625, 0.8042039362052442, 0.8056241285224749, 0.7807761766262198, 0.8087478983524825, 0.8097412284872227]}, {\"categories\": [\"0\", \"1\", \"3\", \"4\", \"5\", \"8\", \"10\", \"11\", \"12\", \"16\", \"17\", \"21\", \"24\", \"25\", \"26\", \"27\", \"28\", \"29\", \"30\", \"31\", \"33\", \"34\", \"39\"], \"mode\": \"lines\", \"name\": \"f1_score_micro_max\", \"stepped\": true, \"type\": \"scatter\", \"data\": [0.799233898216506, 0.8118709423292678, 0.8118709423292678, 0.8118709423292678, 0.8118709423292678, 0.8118709423292678, 0.8118709423292678, 0.8118709423292678, 0.8118709423292678, 0.8118709423292678, 0.8118709423292678, 0.8118709423292678, 0.8118709423292678, 0.8118709423292678, 0.8118709423292678, 0.8118709423292678, 0.8118709423292678, 0.8118709423292678, 0.8118709423292678, 0.8118709423292678, 0.8118709423292678, 0.8118709423292678, 0.8118709423292678]}], \"recall_score_macro\": [{\"categories\": [\"0\", \"1\", \"3\", \"4\", \"5\", \"8\", \"10\", \"11\", \"12\", \"16\", \"17\", \"21\", \"24\", \"25\", \"26\", \"27\", \"28\", \"29\", \"30\", \"31\", \"33\", \"34\", \"39\"], \"mode\": \"markers\", \"name\": \"recall_score_macro\", \"stepped\": false, \"type\": \"scatter\", \"data\": [0.7171461316031825, 0.7303668199900765, 0.5, 0.700881337792552, 0.7180056512667422, 0.7142228413445575, 0.7094588017853196, 0.7457042035070063, 0.7314979953494566, 0.715125681052586, 0.7651585392610564, 0.7239484180537271, 0.7193354202637159, 0.7001271963863184, 0.714601373861901, 0.7096761460299913, 0.7228745659240378, 0.7213318483849762, 0.7263015609767987, 0.725801314785354, 0.6033266619852955, 0.7246199235768983, 0.7218734895712574]}, {\"categories\": [\"0\", \"1\", \"3\", \"4\", \"5\", \"8\", \"10\", \"11\", \"12\", \"16\", \"17\", \"21\", \"24\", \"25\", \"26\", \"27\", \"28\", \"29\", \"30\", \"31\", \"33\", \"34\", \"39\"], \"mode\": \"lines\", \"name\": \"recall_score_macro_max\", \"stepped\": true, \"type\": \"scatter\", \"data\": [0.7171461316031825, 0.7303668199900765, 0.7303668199900765, 0.7303668199900765, 0.7303668199900765, 0.7303668199900765, 0.7303668199900765, 0.7457042035070063, 0.7457042035070063, 0.7457042035070063, 0.7651585392610564, 0.7651585392610564, 0.7651585392610564, 0.7651585392610564, 0.7651585392610564, 0.7651585392610564, 0.7651585392610564, 0.7651585392610564, 0.7651585392610564, 0.7651585392610564, 0.7651585392610564, 0.7651585392610564, 0.7651585392610564]}], \"precision_score_weighted\": [{\"categories\": [\"0\", \"1\", \"3\", \"4\", \"5\", \"8\", \"10\", \"11\", \"12\", \"16\", \"17\", \"21\", \"24\", \"25\", \"26\", \"27\", \"28\", \"29\", \"30\", \"31\", \"33\", \"34\", \"39\"], \"mode\": \"markers\", \"name\": \"precision_score_weighted\", \"stepped\": false, \"type\": \"scatter\", \"data\": [0.7912421989858246, 0.8040295986733041, 0.5397356044072784, 0.7913854977641074, 0.7954008723162939, 0.7909962303207417, 0.7951138173728584, 0.7972052880406645, 0.803687717765587, 0.7683650447595823, 0.8058355480742242, 0.7962518414785315, 0.7977671067417794, 0.7892477459554504, 0.7873546787826444, 0.7852046698645325, 0.7972815476057975, 0.793266797481702, 0.7971678864320904, 0.7979713683484008, 0.7904865143699252, 0.8004788336504133, 0.8014567997119343]}, {\"categories\": [\"0\", \"1\", \"3\", \"4\", \"5\", \"8\", \"10\", \"11\", \"12\", \"16\", \"17\", \"21\", \"24\", \"25\", \"26\", \"27\", \"28\", \"29\", \"30\", \"31\", \"33\", \"34\", \"39\"], \"mode\": \"lines\", \"name\": \"precision_score_weighted_max\", \"stepped\": true, \"type\": \"scatter\", \"data\": [0.7912421989858246, 0.8040295986733041, 0.8040295986733041, 0.8040295986733041, 0.8040295986733041, 0.8040295986733041, 0.8040295986733041, 0.8040295986733041, 0.8040295986733041, 0.8040295986733041, 0.8058355480742242, 0.8058355480742242, 0.8058355480742242, 0.8058355480742242, 0.8058355480742242, 0.8058355480742242, 0.8058355480742242, 0.8058355480742242, 0.8058355480742242, 0.8058355480742242, 0.8058355480742242, 0.8058355480742242, 0.8058355480742242]}], \"precision_score_macro\": [{\"categories\": [\"0\", \"1\", \"3\", \"4\", \"5\", \"8\", \"10\", \"11\", \"12\", \"16\", \"17\", \"21\", \"24\", \"25\", \"26\", \"27\", \"28\", \"29\", \"30\", \"31\", \"33\", \"34\", \"39\"], \"mode\": \"markers\", \"name\": \"precision_score_macro\", \"stepped\": false, \"type\": \"scatter\", \"data\": [0.7445648534996527, 0.7635101809007597, 0.3673155129108723, 0.7559450349874307, 0.7532317164273895, 0.7461967323698554, 0.758306436618199, 0.6924324095649315, 0.761792653107411, 0.6830529906630867, 0.7158406475766966, 0.7507180496238585, 0.7575575885977427, 0.7518883846115916, 0.7379043808958677, 0.7367665330626355, 0.753838719980771, 0.7461160744162886, 0.7511959637161453, 0.7534894097963901, 0.8008029007604908, 0.7595956270781833, 0.7634351280078474]}, {\"categories\": [\"0\", \"1\", \"3\", \"4\", \"5\", \"8\", \"10\", \"11\", \"12\", \"16\", \"17\", \"21\", \"24\", \"25\", \"26\", \"27\", \"28\", \"29\", \"30\", \"31\", \"33\", \"34\", \"39\"], \"mode\": \"lines\", \"name\": \"precision_score_macro_max\", \"stepped\": true, \"type\": \"scatter\", \"data\": [0.7445648534996527, 0.7635101809007597, 0.7635101809007597, 0.7635101809007597, 0.7635101809007597, 0.7635101809007597, 0.7635101809007597, 0.7635101809007597, 0.7635101809007597, 0.7635101809007597, 0.7635101809007597, 0.7635101809007597, 0.7635101809007597, 0.7635101809007597, 0.7635101809007597, 0.7635101809007597, 0.7635101809007597, 0.7635101809007597, 0.7635101809007597, 0.7635101809007597, 0.8008029007604908, 0.8008029007604908, 0.8008029007604908]}], \"weighted_accuracy\": [{\"categories\": [\"0\", \"1\", \"3\", \"4\", \"5\", \"8\", \"10\", \"11\", \"12\", \"16\", \"17\", \"21\", \"24\", \"25\", \"26\", \"27\", \"28\", \"29\", \"30\", \"31\", \"33\", \"34\", \"39\"], \"mode\": \"markers\", \"name\": \"weighted_accuracy\", \"stepped\": false, \"type\": \"scatter\", \"data\": [0.8517348016321072, 0.8639977345588506, 0.8844237869055793, 0.8675622540858882, 0.859542787964914, 0.8545686942463795, 0.8666842887011127, 0.6803170690573158, 0.8616861314795993, 0.7488276172360201, 0.7463741832025717, 0.8546227805934979, 0.8627098992035039, 0.8651093193936946, 0.8465228707124672, 0.8478415109157232, 0.8580946954699075, 0.8515787365816659, 0.8540737730945333, 0.8566821259612981, 0.8941208434472042, 0.8625991735327129, 0.866043108943201]}, {\"categories\": [\"0\", \"1\", \"3\", \"4\", \"5\", \"8\", \"10\", \"11\", \"12\", \"16\", \"17\", \"21\", \"24\", \"25\", \"26\", \"27\", \"28\", \"29\", \"30\", \"31\", \"33\", \"34\", \"39\"], \"mode\": \"lines\", \"name\": \"weighted_accuracy_max\", \"stepped\": true, \"type\": \"scatter\", \"data\": [0.8517348016321072, 0.8639977345588506, 0.8844237869055793, 0.8844237869055793, 0.8844237869055793, 0.8844237869055793, 0.8844237869055793, 0.8844237869055793, 0.8844237869055793, 0.8844237869055793, 0.8844237869055793, 0.8844237869055793, 0.8844237869055793, 0.8844237869055793, 0.8844237869055793, 0.8844237869055793, 0.8844237869055793, 0.8844237869055793, 0.8844237869055793, 0.8844237869055793, 0.8941208434472042, 0.8941208434472042, 0.8941208434472042]}], \"f1_score_weighted\": [{\"categories\": [\"0\", \"1\", \"3\", \"4\", \"5\", \"8\", \"10\", \"11\", \"12\", \"16\", \"17\", \"21\", \"24\", \"25\", \"26\", \"27\", \"28\", \"29\", \"30\", \"31\", \"33\", \"34\", \"39\"], \"mode\": \"markers\", \"name\": \"f1_score_weighted\", \"stepped\": false, \"type\": \"scatter\", \"data\": [0.7931998338961361, 0.8054938129747633, 0.622265313993032, 0.7904233224227801, 0.797072256922387, 0.7928180037507041, 0.7951500839677528, 0.7227195260722864, 0.8050654451816414, 0.7461056508305176, 0.7658204349241599, 0.798029377245316, 0.798975940317638, 0.7894136609009257, 0.7898872010317061, 0.7876621491631542, 0.7989498055016614, 0.7954895066824076, 0.7990327307005002, 0.7999633698056959, 0.7311201480956561, 0.8016471381835003, 0.8015991623210179]}, {\"categories\": [\"0\", \"1\", \"3\", \"4\", \"5\", \"8\", \"10\", \"11\", \"12\", \"16\", \"17\", \"21\", \"24\", \"25\", \"26\", \"27\", \"28\", \"29\", \"30\", \"31\", \"33\", \"34\", \"39\"], \"mode\": \"lines\", \"name\": \"f1_score_weighted_max\", \"stepped\": true, \"type\": \"scatter\", \"data\": [0.7931998338961361, 0.8054938129747633, 0.8054938129747633, 0.8054938129747633, 0.8054938129747633, 0.8054938129747633, 0.8054938129747633, 0.8054938129747633, 0.8054938129747633, 0.8054938129747633, 0.8054938129747633, 0.8054938129747633, 0.8054938129747633, 0.8054938129747633, 0.8054938129747633, 0.8054938129747633, 0.8054938129747633, 0.8054938129747633, 0.8054938129747633, 0.8054938129747633, 0.8054938129747633, 0.8054938129747633, 0.8054938129747633]}], \"AUC_weighted\": [{\"categories\": [\"0\", \"1\", \"3\", \"4\", \"5\", \"8\", \"10\", \"11\", \"12\", \"16\", \"17\", \"21\", \"24\", \"25\", \"26\", \"27\", \"28\", \"29\", \"30\", \"31\", \"33\", \"34\", \"39\"], \"mode\": \"markers\", \"name\": \"AUC_weighted\", \"stepped\": false, \"type\": \"scatter\", \"data\": [0.8504767406165027, 0.8617807765131835, 0.6851400919521694, 0.8543321818557906, 0.8531770296875568, 0.848309715223836, 0.8517081760223301, 0.8201094212688176, 0.8621280635685932, 0.7860507649226021, 0.8488311330732751, 0.8550051169569416, 0.8534539029591617, 0.8378340136985655, 0.8448910235291445, 0.8452022605746197, 0.857288669044098, 0.8515742330630373, 0.8574767163601037, 0.8601620223326853, 0.8515983140384474, 0.8531456183726066, 0.8642376018041943]}, {\"categories\": [\"0\", \"1\", \"3\", \"4\", \"5\", \"8\", \"10\", \"11\", \"12\", \"16\", \"17\", \"21\", \"24\", \"25\", \"26\", \"27\", \"28\", \"29\", \"30\", \"31\", \"33\", \"34\", \"39\"], \"mode\": \"lines\", \"name\": \"AUC_weighted_max\", \"stepped\": true, \"type\": \"scatter\", \"data\": [0.8504767406165027, 0.8617807765131835, 0.8617807765131835, 0.8617807765131835, 0.8617807765131835, 0.8617807765131835, 0.8617807765131835, 0.8617807765131835, 0.8621280635685932, 0.8621280635685932, 0.8621280635685932, 0.8621280635685932, 0.8621280635685932, 0.8621280635685932, 0.8621280635685932, 0.8621280635685932, 0.8621280635685932, 0.8621280635685932, 0.8621280635685932, 0.8621280635685932, 0.8621280635685932, 0.8621280635685932, 0.8642376018041943]}], \"average_precision_score_macro\": [{\"categories\": [\"0\", \"1\", \"3\", \"4\", \"5\", \"8\", \"10\", \"11\", \"12\", \"16\", \"17\", \"21\", \"24\", \"25\", \"26\", \"27\", \"28\", \"29\", \"30\", \"31\", \"33\", \"34\", \"39\"], \"mode\": \"markers\", \"name\": \"average_precision_score_macro\", \"stepped\": false, \"type\": \"scatter\", \"data\": [0.8047394533962776, 0.8166798121029251, 0.624900081272918, 0.8061014014645999, 0.8027756330518906, 0.7985478902745368, 0.8027506449375873, 0.7613778675362806, 0.8164714129001709, 0.7282974733198798, 0.7986336412967429, 0.8089071308420293, 0.802968482004589, 0.7906145822261029, 0.7918333265653584, 0.7955939320184179, 0.8119637344944269, 0.8003835868467141, 0.8074787800174521, 0.8110589631655051, 0.8039360146019098, 0.8078192399139441, 0.8185134286982789]}, {\"categories\": [\"0\", \"1\", \"3\", \"4\", \"5\", \"8\", \"10\", \"11\", \"12\", \"16\", \"17\", \"21\", \"24\", \"25\", \"26\", \"27\", \"28\", \"29\", \"30\", \"31\", \"33\", \"34\", \"39\"], \"mode\": \"lines\", \"name\": \"average_precision_score_macro_max\", \"stepped\": true, \"type\": \"scatter\", \"data\": [0.8047394533962776, 0.8166798121029251, 0.8166798121029251, 0.8166798121029251, 0.8166798121029251, 0.8166798121029251, 0.8166798121029251, 0.8166798121029251, 0.8166798121029251, 0.8166798121029251, 0.8166798121029251, 0.8166798121029251, 0.8166798121029251, 0.8166798121029251, 0.8166798121029251, 0.8166798121029251, 0.8166798121029251, 0.8166798121029251, 0.8166798121029251, 0.8166798121029251, 0.8166798121029251, 0.8166798121029251, 0.8185134286982789]}], \"accuracy\": [{\"categories\": [\"0\", \"1\", \"3\", \"4\", \"5\", \"8\", \"10\", \"11\", \"12\", \"16\", \"17\", \"21\", \"24\", \"25\", \"26\", \"27\", \"28\", \"29\", \"30\", \"31\", \"33\", \"34\", \"39\"], \"mode\": \"markers\", \"name\": \"accuracy\", \"stepped\": false, \"type\": \"scatter\", \"data\": [0.799233898216506, 0.8118709423292678, 0.7346310258217446, 0.8025003586924674, 0.8043451751447531, 0.7998023017773482, 0.8053398964981695, 0.7056646432298339, 0.810876402439157, 0.7356243559564847, 0.753514641790225, 0.8036356536199388, 0.8067598468643261, 0.8007965392286165, 0.7951164353251471, 0.7939805960077589, 0.8053395940593268, 0.8007958738631626, 0.8042039362052442, 0.8056241285224749, 0.7807761766262197, 0.8087478983524826, 0.8097412284872227]}, {\"categories\": [\"0\", \"1\", \"3\", \"4\", \"5\", \"8\", \"10\", \"11\", \"12\", \"16\", \"17\", \"21\", \"24\", \"25\", \"26\", \"27\", \"28\", \"29\", \"30\", \"31\", \"33\", \"34\", \"39\"], \"mode\": \"lines\", \"name\": \"accuracy_max\", \"stepped\": true, \"type\": \"scatter\", \"data\": [0.799233898216506, 0.8118709423292678, 0.8118709423292678, 0.8118709423292678, 0.8118709423292678, 0.8118709423292678, 0.8118709423292678, 0.8118709423292678, 0.8118709423292678, 0.8118709423292678, 0.8118709423292678, 0.8118709423292678, 0.8118709423292678, 0.8118709423292678, 0.8118709423292678, 0.8118709423292678, 0.8118709423292678, 0.8118709423292678, 0.8118709423292678, 0.8118709423292678, 0.8118709423292678, 0.8118709423292678, 0.8118709423292678]}], \"f1_score_macro\": [{\"categories\": [\"0\", \"1\", \"3\", \"4\", \"5\", \"8\", \"10\", \"11\", \"12\", \"16\", \"17\", \"21\", \"24\", \"25\", \"26\", \"27\", \"28\", \"29\", \"30\", \"31\", \"33\", \"34\", \"39\"], \"mode\": \"markers\", \"name\": \"f1_score_macro\", \"stepped\": false, \"type\": \"scatter\", \"data\": [0.7277603821942763, 0.7431829401984383, 0.4234983688252285, 0.7182759651405669, 0.7313392509155036, 0.7262892670149602, 0.7260260245076254, 0.6833156171095832, 0.7432735664942989, 0.6910545105039376, 0.7221326880058064, 0.7344325026651074, 0.7334132439806519, 0.7172906192610119, 0.7242168178909821, 0.7202873599344147, 0.7347622573550007, 0.7313936568993977, 0.7362580348900837, 0.7368681806978049, 0.610122660658558, 0.7375676259730707, 0.7365045600076341]}, {\"categories\": [\"0\", \"1\", \"3\", \"4\", \"5\", \"8\", \"10\", \"11\", \"12\", \"16\", \"17\", \"21\", \"24\", \"25\", \"26\", \"27\", \"28\", \"29\", \"30\", \"31\", \"33\", \"34\", \"39\"], \"mode\": \"lines\", \"name\": \"f1_score_macro_max\", \"stepped\": true, \"type\": \"scatter\", \"data\": [0.7277603821942763, 0.7431829401984383, 0.7431829401984383, 0.7431829401984383, 0.7431829401984383, 0.7431829401984383, 0.7431829401984383, 0.7431829401984383, 0.7432735664942989, 0.7432735664942989, 0.7432735664942989, 0.7432735664942989, 0.7432735664942989, 0.7432735664942989, 0.7432735664942989, 0.7432735664942989, 0.7432735664942989, 0.7432735664942989, 0.7432735664942989, 0.7432735664942989, 0.7432735664942989, 0.7432735664942989, 0.7432735664942989]}], \"matthews_correlation\": [{\"categories\": [\"0\", \"1\", \"3\", \"4\", \"5\", \"8\", \"10\", \"11\", \"12\", \"16\", \"17\", \"21\", \"24\", \"25\", \"26\", \"27\", \"28\", \"29\", \"30\", \"31\", \"33\", \"34\", \"39\"], \"mode\": \"markers\", \"name\": \"matthews_correlation\", \"stepped\": false, \"type\": \"scatter\", \"data\": [0.46073530552981784, 0.49264511783241655, 0.0, 0.45321241649611554, 0.46984099234036286, 0.45916120879711814, 0.46502840220027775, 0.4348587972006537, 0.4921891332645359, 0.39685064512735985, 0.4783681953342928, 0.47374823314658804, 0.4752161687689415, 0.44899053508678066, 0.45189226606509353, 0.4455355434600016, 0.47555290885882834, 0.46673130373191585, 0.4767203154892589, 0.47841825320519443, 0.3519322429706529, 0.48270770898355647, 0.4831602409846716]}, {\"categories\": [\"0\", \"1\", \"3\", \"4\", \"5\", \"8\", \"10\", \"11\", \"12\", \"16\", \"17\", \"21\", \"24\", \"25\", \"26\", \"27\", \"28\", \"29\", \"30\", \"31\", \"33\", \"34\", \"39\"], \"mode\": \"lines\", \"name\": \"matthews_correlation_max\", \"stepped\": true, \"type\": \"scatter\", \"data\": [0.46073530552981784, 0.49264511783241655, 0.49264511783241655, 0.49264511783241655, 0.49264511783241655, 0.49264511783241655, 0.49264511783241655, 0.49264511783241655, 0.49264511783241655, 0.49264511783241655, 0.49264511783241655, 0.49264511783241655, 0.49264511783241655, 0.49264511783241655, 0.49264511783241655, 0.49264511783241655, 0.49264511783241655, 0.49264511783241655, 0.49264511783241655, 0.49264511783241655, 0.49264511783241655, 0.49264511783241655, 0.49264511783241655]}], \"average_precision_score_weighted\": [{\"categories\": [\"0\", \"1\", \"3\", \"4\", \"5\", \"8\", \"10\", \"11\", \"12\", \"16\", \"17\", \"21\", \"24\", \"25\", \"26\", \"27\", \"28\", \"29\", \"30\", \"31\", \"33\", \"34\", \"39\"], \"mode\": \"markers\", \"name\": \"average_precision_score_weighted\", \"stepped\": false, \"type\": \"scatter\", \"data\": [0.8689213565546332, 0.8775343139763215, 0.723904131410233, 0.8701070068530073, 0.8678516079026246, 0.8641688922489319, 0.8675794806864351, 0.8372604606698794, 0.8772068429708408, 0.8097025633635572, 0.8650851448187206, 0.8713763218994787, 0.8670266816123647, 0.8574136842955298, 0.8610730260483043, 0.8630999418767175, 0.8740616373138693, 0.8671451295915024, 0.8720887619741156, 0.8744033570309234, 0.8682371646829791, 0.869991196093868, 0.8788747088056944]}, {\"categories\": [\"0\", \"1\", \"3\", \"4\", \"5\", \"8\", \"10\", \"11\", \"12\", \"16\", \"17\", \"21\", \"24\", \"25\", \"26\", \"27\", \"28\", \"29\", \"30\", \"31\", \"33\", \"34\", \"39\"], \"mode\": \"lines\", \"name\": \"average_precision_score_weighted_max\", \"stepped\": true, \"type\": \"scatter\", \"data\": [0.8689213565546332, 0.8775343139763215, 0.8775343139763215, 0.8775343139763215, 0.8775343139763215, 0.8775343139763215, 0.8775343139763215, 0.8775343139763215, 0.8775343139763215, 0.8775343139763215, 0.8775343139763215, 0.8775343139763215, 0.8775343139763215, 0.8775343139763215, 0.8775343139763215, 0.8775343139763215, 0.8775343139763215, 0.8775343139763215, 0.8775343139763215, 0.8775343139763215, 0.8775343139763215, 0.8775343139763215, 0.8788747088056944]}], \"balanced_accuracy\": [{\"categories\": [\"0\", \"1\", \"3\", \"4\", \"5\", \"8\", \"10\", \"11\", \"12\", \"16\", \"17\", \"21\", \"24\", \"25\", \"26\", \"27\", \"28\", \"29\", \"30\", \"31\", \"33\", \"34\", \"39\"], \"mode\": \"markers\", \"name\": \"balanced_accuracy\", \"stepped\": false, \"type\": \"scatter\", \"data\": [0.7171461316031825, 0.7303668199900765, 0.5, 0.700881337792552, 0.7180056512667422, 0.7142228413445575, 0.7094588017853196, 0.7457042035070063, 0.7314979953494566, 0.715125681052586, 0.7651585392610564, 0.7239484180537271, 0.7193354202637159, 0.7001271963863184, 0.714601373861901, 0.7096761460299913, 0.7228745659240378, 0.7213318483849762, 0.7263015609767987, 0.725801314785354, 0.6033266619852955, 0.7246199235768983, 0.7218734895712574]}, {\"categories\": [\"0\", \"1\", \"3\", \"4\", \"5\", \"8\", \"10\", \"11\", \"12\", \"16\", \"17\", \"21\", \"24\", \"25\", \"26\", \"27\", \"28\", \"29\", \"30\", \"31\", \"33\", \"34\", \"39\"], \"mode\": \"lines\", \"name\": \"balanced_accuracy_max\", \"stepped\": true, \"type\": \"scatter\", \"data\": [0.7171461316031825, 0.7303668199900765, 0.7303668199900765, 0.7303668199900765, 0.7303668199900765, 0.7303668199900765, 0.7303668199900765, 0.7457042035070063, 0.7457042035070063, 0.7457042035070063, 0.7651585392610564, 0.7651585392610564, 0.7651585392610564, 0.7651585392610564, 0.7651585392610564, 0.7651585392610564, 0.7651585392610564, 0.7651585392610564, 0.7651585392610564, 0.7651585392610564, 0.7651585392610564, 0.7651585392610564, 0.7651585392610564]}], \"average_precision_score_micro\": [{\"categories\": [\"0\", \"1\", \"3\", \"4\", \"5\", \"8\", \"10\", \"11\", \"12\", \"16\", \"17\", \"21\", \"24\", \"25\", \"26\", \"27\", \"28\", \"29\", \"30\", \"31\", \"33\", \"34\", \"39\"], \"mode\": \"markers\", \"name\": \"average_precision_score_micro\", \"stepped\": false, \"type\": \"scatter\", \"data\": [0.8949690410362542, 0.9023328639828341, 0.7759625087795395, 0.8958230628010312, 0.895472521330903, 0.891877071603993, 0.8948005329451445, 0.7996307458924443, 0.9020187442938544, 0.8088658629681101, 0.8450159844589263, 0.8971999240148311, 0.8943475705065841, 0.8864257929417277, 0.8904644100541567, 0.8911874319363627, 0.8995050000546522, 0.8951337710378707, 0.8991562139281027, 0.9009189356521601, 0.8831447566691164, 0.8960736416347034, 0.9027966903300019]}, {\"categories\": [\"0\", \"1\", \"3\", \"4\", \"5\", \"8\", \"10\", \"11\", \"12\", \"16\", \"17\", \"21\", \"24\", \"25\", \"26\", \"27\", \"28\", \"29\", \"30\", \"31\", \"33\", \"34\", \"39\"], \"mode\": \"lines\", \"name\": \"average_precision_score_micro_max\", \"stepped\": true, \"type\": \"scatter\", \"data\": [0.8949690410362542, 0.9023328639828341, 0.9023328639828341, 0.9023328639828341, 0.9023328639828341, 0.9023328639828341, 0.9023328639828341, 0.9023328639828341, 0.9023328639828341, 0.9023328639828341, 0.9023328639828341, 0.9023328639828341, 0.9023328639828341, 0.9023328639828341, 0.9023328639828341, 0.9023328639828341, 0.9023328639828341, 0.9023328639828341, 0.9023328639828341, 0.9023328639828341, 0.9023328639828341, 0.9023328639828341, 0.9027966903300019]}], \"AUC_micro\": [{\"categories\": [\"0\", \"1\", \"3\", \"4\", \"5\", \"8\", \"10\", \"11\", \"12\", \"16\", \"17\", \"21\", \"24\", \"25\", \"26\", \"27\", \"28\", \"29\", \"30\", \"31\", \"33\", \"34\", \"39\"], \"mode\": \"markers\", \"name\": \"AUC_micro\", \"stepped\": false, \"type\": \"scatter\", \"data\": [0.8914802589683228, 0.8990339489520052, 0.807076823529638, 0.8928379980389409, 0.8933164169467478, 0.8901093380334779, 0.8922657461157536, 0.7932317008588861, 0.8992971198871178, 0.8140257083007104, 0.8372626863999345, 0.8949635005663016, 0.8936948480438179, 0.8852851150549443, 0.8867720098623982, 0.8873860077223713, 0.8961220099154842, 0.8913577791750806, 0.8954447522086578, 0.8973195004850353, 0.8781509928340929, 0.8944168580972528, 0.89974152116646]}, {\"categories\": [\"0\", \"1\", \"3\", \"4\", \"5\", \"8\", \"10\", \"11\", \"12\", \"16\", \"17\", \"21\", \"24\", \"25\", \"26\", \"27\", \"28\", \"29\", \"30\", \"31\", \"33\", \"34\", \"39\"], \"mode\": \"lines\", \"name\": \"AUC_micro_max\", \"stepped\": true, \"type\": \"scatter\", \"data\": [0.8914802589683228, 0.8990339489520052, 0.8990339489520052, 0.8990339489520052, 0.8990339489520052, 0.8990339489520052, 0.8990339489520052, 0.8990339489520052, 0.8992971198871178, 0.8992971198871178, 0.8992971198871178, 0.8992971198871178, 0.8992971198871178, 0.8992971198871178, 0.8992971198871178, 0.8992971198871178, 0.8992971198871178, 0.8992971198871178, 0.8992971198871178, 0.8992971198871178, 0.8992971198871178, 0.8992971198871178, 0.89974152116646]}], \"precision_score_micro\": [{\"categories\": [\"0\", \"1\", \"3\", \"4\", \"5\", \"8\", \"10\", \"11\", \"12\", \"16\", \"17\", \"21\", \"24\", \"25\", \"26\", \"27\", \"28\", \"29\", \"30\", \"31\", \"33\", \"34\", \"39\"], \"mode\": \"markers\", \"name\": \"precision_score_micro\", \"stepped\": false, \"type\": \"scatter\", \"data\": [0.799233898216506, 0.8118709423292678, 0.7346310258217446, 0.8025003586924674, 0.8043451751447531, 0.7998023017773482, 0.8053398964981695, 0.7056646432298339, 0.810876402439157, 0.7356243559564847, 0.753514641790225, 0.8036356536199388, 0.8067598468643261, 0.8007965392286165, 0.7951164353251471, 0.7939805960077589, 0.8053395940593268, 0.8007958738631626, 0.8042039362052442, 0.8056241285224749, 0.7807761766262197, 0.8087478983524826, 0.8097412284872227]}, {\"categories\": [\"0\", \"1\", \"3\", \"4\", \"5\", \"8\", \"10\", \"11\", \"12\", \"16\", \"17\", \"21\", \"24\", \"25\", \"26\", \"27\", \"28\", \"29\", \"30\", \"31\", \"33\", \"34\", \"39\"], \"mode\": \"lines\", \"name\": \"precision_score_micro_max\", \"stepped\": true, \"type\": \"scatter\", \"data\": [0.799233898216506, 0.8118709423292678, 0.8118709423292678, 0.8118709423292678, 0.8118709423292678, 0.8118709423292678, 0.8118709423292678, 0.8118709423292678, 0.8118709423292678, 0.8118709423292678, 0.8118709423292678, 0.8118709423292678, 0.8118709423292678, 0.8118709423292678, 0.8118709423292678, 0.8118709423292678, 0.8118709423292678, 0.8118709423292678, 0.8118709423292678, 0.8118709423292678, 0.8118709423292678, 0.8118709423292678, 0.8118709423292678]}], \"log_loss\": [{\"categories\": [\"0\", \"1\", \"3\", \"4\", \"5\", \"8\", \"10\", \"11\", \"12\", \"16\", \"17\", \"21\", \"24\", \"25\", \"26\", \"27\", \"28\", \"29\", \"30\", \"31\", \"33\", \"34\", \"39\"], \"mode\": \"markers\", \"name\": \"log_loss\", \"stepped\": false, \"type\": \"scatter\", \"data\": [0.41646068450416723, 0.3971468171919259, 0.563699337050561, 0.41677377976758967, 0.4685003700721963, 0.46960682257817704, 0.4180535945822834, 0.6725419591923719, 0.4051260104791555, 0.6062656365455968, 0.48457855820128787, 0.46879657814880865, 0.47075856272723254, 0.478965920235714, 0.437624092993176, 0.4370821419727558, 0.4038705636173845, 0.4185779069787712, 0.40416150653365807, 0.39976523281775966, 0.45747994930080615, 0.40831245846008857, 0.4085582501148151]}, {\"categories\": [\"0\", \"1\", \"3\", \"4\", \"5\", \"8\", \"10\", \"11\", \"12\", \"16\", \"17\", \"21\", \"24\", \"25\", \"26\", \"27\", \"28\", \"29\", \"30\", \"31\", \"33\", \"34\", \"39\"], \"mode\": \"lines\", \"name\": \"log_loss_min\", \"stepped\": true, \"type\": \"scatter\", \"data\": [0.41646068450416723, 0.3971468171919259, 0.3971468171919259, 0.3971468171919259, 0.3971468171919259, 0.3971468171919259, 0.3971468171919259, 0.3971468171919259, 0.3971468171919259, 0.3971468171919259, 0.3971468171919259, 0.3971468171919259, 0.3971468171919259, 0.3971468171919259, 0.3971468171919259, 0.3971468171919259, 0.3971468171919259, 0.3971468171919259, 0.3971468171919259, 0.3971468171919259, 0.3971468171919259, 0.3971468171919259, 0.3971468171919259]}], \"recall_score_weighted\": [{\"categories\": [\"0\", \"1\", \"3\", \"4\", \"5\", \"8\", \"10\", \"11\", \"12\", \"16\", \"17\", \"21\", \"24\", \"25\", \"26\", \"27\", \"28\", \"29\", \"30\", \"31\", \"33\", \"34\", \"39\"], \"mode\": \"markers\", \"name\": \"recall_score_weighted\", \"stepped\": false, \"type\": \"scatter\", \"data\": [0.799233898216506, 0.8118709423292678, 0.7346310258217446, 0.8025003586924674, 0.8043451751447531, 0.7998023017773482, 0.8053398964981695, 0.7056646432298339, 0.810876402439157, 0.7356243559564847, 0.753514641790225, 0.8036356536199388, 0.8067598468643261, 0.8007965392286165, 0.7951164353251471, 0.7939805960077589, 0.8053395940593268, 0.8007958738631626, 0.8042039362052442, 0.8056241285224749, 0.7807761766262197, 0.8087478983524826, 0.8097412284872227]}, {\"categories\": [\"0\", \"1\", \"3\", \"4\", \"5\", \"8\", \"10\", \"11\", \"12\", \"16\", \"17\", \"21\", \"24\", \"25\", \"26\", \"27\", \"28\", \"29\", \"30\", \"31\", \"33\", \"34\", \"39\"], \"mode\": \"lines\", \"name\": \"recall_score_weighted_max\", \"stepped\": true, \"type\": \"scatter\", \"data\": [0.799233898216506, 0.8118709423292678, 0.8118709423292678, 0.8118709423292678, 0.8118709423292678, 0.8118709423292678, 0.8118709423292678, 0.8118709423292678, 0.8118709423292678, 0.8118709423292678, 0.8118709423292678, 0.8118709423292678, 0.8118709423292678, 0.8118709423292678, 0.8118709423292678, 0.8118709423292678, 0.8118709423292678, 0.8118709423292678, 0.8118709423292678, 0.8118709423292678, 0.8118709423292678, 0.8118709423292678, 0.8118709423292678]}]}, \"metricName\": null, \"primaryMetricName\": \"AUC_weighted\", \"showLegend\": false}, \"run_metrics\": [{\"name\": \"experiment_status\", \"run_id\": \"AutoML_dc879c9a-5ebe-458b-a4a9-9a81f456c7f2\", \"categories\": [0, 1, 2, 3, 4, 5, 6, 7, 8, 9, 10, 11, 12, 13], \"series\": [{\"data\": [\"DatasetEvaluation\", \"FeaturesGeneration\", \"DatasetFeaturization\", \"DatasetFeaturizationCompleted\", \"DatasetCrossValidationSplit\", \"ModelSelection\", \"BestRunExplainModel\", \"ModelExplanationDataSetSetup\", \"PickSurrogateModel\", \"EngineeredFeatureExplanations\", \"EngineeredFeatureExplanations\", \"RawFeaturesExplanations\", \"RawFeaturesExplanations\", \"BestRunExplainModel\"]}]}, {\"name\": \"experiment_status_description\", \"run_id\": \"AutoML_dc879c9a-5ebe-458b-a4a9-9a81f456c7f2\", \"categories\": [0, 1, 2, 3, 4, 5, 6, 7, 8, 9, 10, 11, 12, 13], \"series\": [{\"data\": [\"Gathering dataset statistics.\", \"Generating features for the dataset.\", \"Beginning to fit featurizers and featurize the dataset.\", \"Completed fit featurizers and featurizing the dataset.\", \"Generating individually featurized CV splits.\", \"Beginning model selection.\", \"Best run model explanations started\", \"Model explanations data setup completed\", \"Choosing LinearModel as the surrogate model for explanations\", \"Computation of engineered features started\", \"Computation of engineered features completed\", \"Computation of raw features started\", \"Computation of raw features completed\", \"Best run model explanations completed\"]}]}, {\"name\": \"AUC_weighted\", \"run_id\": \"AutoML_dc879c9a-5ebe-458b-a4a9-9a81f456c7f2\", \"categories\": [0], \"series\": [{\"data\": [0.8647779520901103]}]}, {\"name\": \"precision_score_weighted\", \"run_id\": \"AutoML_dc879c9a-5ebe-458b-a4a9-9a81f456c7f2\", \"categories\": [0], \"series\": [{\"data\": [0.8041381083181566]}]}, {\"name\": \"matthews_correlation\", \"run_id\": \"AutoML_dc879c9a-5ebe-458b-a4a9-9a81f456c7f2\", \"categories\": [0], \"series\": [{\"data\": [0.4922694274781474]}]}, {\"name\": \"precision_score_macro\", \"run_id\": \"AutoML_dc879c9a-5ebe-458b-a4a9-9a81f456c7f2\", \"categories\": [0], \"series\": [{\"data\": [0.7643633256303676]}]}, {\"name\": \"precision_score_micro\", \"run_id\": \"AutoML_dc879c9a-5ebe-458b-a4a9-9a81f456c7f2\", \"categories\": [0], \"series\": [{\"data\": [0.8120127256586938]}]}, {\"name\": \"f1_score_micro\", \"run_id\": \"AutoML_dc879c9a-5ebe-458b-a4a9-9a81f456c7f2\", \"categories\": [0], \"series\": [{\"data\": [0.8120127256586936]}]}, {\"name\": \"norm_macro_recall\", \"run_id\": \"AutoML_dc879c9a-5ebe-458b-a4a9-9a81f456c7f2\", \"categories\": [0], \"series\": [{\"data\": [0.45863905454534654]}]}, {\"name\": \"average_precision_score_micro\", \"run_id\": \"AutoML_dc879c9a-5ebe-458b-a4a9-9a81f456c7f2\", \"categories\": [0], \"series\": [{\"data\": [0.9038933822541065]}]}, {\"name\": \"average_precision_score_macro\", \"run_id\": \"AutoML_dc879c9a-5ebe-458b-a4a9-9a81f456c7f2\", \"categories\": [0], \"series\": [{\"data\": [0.8190862688558026]}]}, {\"name\": \"recall_score_micro\", \"run_id\": \"AutoML_dc879c9a-5ebe-458b-a4a9-9a81f456c7f2\", \"categories\": [0], \"series\": [{\"data\": [0.8120127256586938]}]}, {\"name\": \"accuracy\", \"run_id\": \"AutoML_dc879c9a-5ebe-458b-a4a9-9a81f456c7f2\", \"categories\": [0], \"series\": [{\"data\": [0.8120127256586938]}]}, {\"name\": \"recall_score_macro\", \"run_id\": \"AutoML_dc879c9a-5ebe-458b-a4a9-9a81f456c7f2\", \"categories\": [0], \"series\": [{\"data\": [0.7293195272726732]}]}, {\"name\": \"weighted_accuracy\", \"run_id\": \"AutoML_dc879c9a-5ebe-458b-a4a9-9a81f456c7f2\", \"categories\": [0], \"series\": [{\"data\": [0.8649219173702983]}]}, {\"name\": \"AUC_micro\", \"run_id\": \"AutoML_dc879c9a-5ebe-458b-a4a9-9a81f456c7f2\", \"categories\": [0], \"series\": [{\"data\": [0.9008675797589598]}]}, {\"name\": \"balanced_accuracy\", \"run_id\": \"AutoML_dc879c9a-5ebe-458b-a4a9-9a81f456c7f2\", \"categories\": [0], \"series\": [{\"data\": [0.7293195272726732]}]}, {\"name\": \"average_precision_score_weighted\", \"run_id\": \"AutoML_dc879c9a-5ebe-458b-a4a9-9a81f456c7f2\", \"categories\": [0], \"series\": [{\"data\": [0.8792909195807939]}]}, {\"name\": \"recall_score_weighted\", \"run_id\": \"AutoML_dc879c9a-5ebe-458b-a4a9-9a81f456c7f2\", \"categories\": [0], \"series\": [{\"data\": [0.8120127256586938]}]}, {\"name\": \"AUC_macro\", \"run_id\": \"AutoML_dc879c9a-5ebe-458b-a4a9-9a81f456c7f2\", \"categories\": [0], \"series\": [{\"data\": [0.8647779520901103]}]}, {\"name\": \"f1_score_macro\", \"run_id\": \"AutoML_dc879c9a-5ebe-458b-a4a9-9a81f456c7f2\", \"categories\": [0], \"series\": [{\"data\": [0.7425978417744036]}]}, {\"name\": \"f1_score_weighted\", \"run_id\": \"AutoML_dc879c9a-5ebe-458b-a4a9-9a81f456c7f2\", \"categories\": [0], \"series\": [{\"data\": [0.8053032269070917]}]}, {\"name\": \"log_loss\", \"run_id\": \"AutoML_dc879c9a-5ebe-458b-a4a9-9a81f456c7f2\", \"categories\": [0], \"series\": [{\"data\": [0.4009128327039178]}]}], \"run_logs\": \"\\nRun is completed.\", \"graph\": {}, \"widget_settings\": {\"childWidgetDisplay\": \"popup\", \"send_telemetry\": false, \"log_level\": \"INFO\", \"sdk_version\": \"1.38.0\"}, \"loading\": false}"
          },
          "metadata": {}
        }
      ],
      "execution_count": 13,
      "metadata": {
        "gather": {
          "logged": 1645119649347
        },
        "jupyter": {
          "outputs_hidden": false,
          "source_hidden": false
        },
        "nteract": {
          "transient": {
            "deleting": false
          }
        }
      }
    },
    {
      "cell_type": "markdown",
      "source": [
        "## Best Model\n",
        "\n",
        "TODO: In the cell below, get the best model from the automl experiments and display all the properties of the model.\n",
        "\n"
      ],
      "metadata": {}
    },
    {
      "cell_type": "code",
      "source": [
        "import joblib\r\n",
        "# Retrieve and save your best automl model.\r\n",
        "best_model, pipeline = remote_run.get_output()\r\n",
        "\r\n",
        "joblib.dump(pipeline, \"automl.joblib\")"
      ],
      "outputs": [
        {
          "output_type": "stream",
          "name": "stderr",
          "text": "WARNING:root:The model you attempted to retrieve requires 'azureml-train-automl-runtime' to be installed at '==1.38.0'. Please install 'azureml-train-automl-runtime==1.38.0' (e.g. `pip install azureml-train-automl-runtime==1.38.0`) and then rerun the previous command.\n"
        },
        {
          "output_type": "execute_result",
          "execution_count": 15,
          "data": {
            "text/plain": "['automl.joblib']"
          },
          "metadata": {}
        }
      ],
      "execution_count": 15,
      "metadata": {
        "gather": {
          "logged": 1645119704501
        },
        "jupyter": {
          "outputs_hidden": false,
          "source_hidden": false
        },
        "nteract": {
          "transient": {
            "deleting": false
          }
        }
      }
    },
    {
      "cell_type": "code",
      "source": [
        "best_model"
      ],
      "outputs": [
        {
          "output_type": "execute_result",
          "execution_count": 16,
          "data": {
            "text/plain": "Run(Experiment: automl-run-1,\nId: AutoML_dc879c9a-5ebe-458b-a4a9-9a81f456c7f2_38,\nType: azureml.scriptrun,\nStatus: Completed)",
            "text/html": "<table style=\"width:100%\"><tr><th>Experiment</th><th>Id</th><th>Type</th><th>Status</th><th>Details Page</th><th>Docs Page</th></tr><tr><td>automl-run-1</td><td>AutoML_dc879c9a-5ebe-458b-a4a9-9a81f456c7f2_38</td><td>azureml.scriptrun</td><td>Completed</td><td><a href=\"https://ml.azure.com/runs/AutoML_dc879c9a-5ebe-458b-a4a9-9a81f456c7f2_38?wsid=/subscriptions/f9d5a085-54dc-4215-9ba6-dad5d86e60a0/resourcegroups/aml-quickstarts-186279/workspaces/quick-starts-ws-186279&amp;tid=660b3398-b80e-49d2-bc5b-ac1dc93b5254\" target=\"_blank\" rel=\"noopener\">Link to Azure Machine Learning studio</a></td><td><a href=\"https://docs.microsoft.com/en-us/python/api/azureml-core/azureml.core.run.Run?view=azure-ml-py\" target=\"_blank\" rel=\"noopener\">Link to Documentation</a></td></tr></table>"
          },
          "metadata": {}
        }
      ],
      "execution_count": 16,
      "metadata": {
        "gather": {
          "logged": 1645119708430
        },
        "jupyter": {
          "outputs_hidden": false,
          "source_hidden": false
        },
        "nteract": {
          "transient": {
            "deleting": false
          }
        }
      }
    },
    {
      "cell_type": "code",
      "source": [
        "best_model = remote_run.register_model(model_name='best_model_automl')"
      ],
      "outputs": [],
      "execution_count": 20,
      "metadata": {
        "jupyter": {
          "source_hidden": false,
          "outputs_hidden": false
        },
        "nteract": {
          "transient": {
            "deleting": false
          }
        },
        "gather": {
          "logged": 1645120028975
        }
      }
    },
    {
      "cell_type": "markdown",
      "source": [
        "## Model Deployment\n",
        "\n",
        "Remember you have to deploy only one of the two models you trained but you still need to register both the models. Perform the steps in the rest of this notebook only if you wish to deploy this model.\n",
        "\n",
        "TODO: In the cell below, register the model, create an inference config and deploy the model as a web service."
      ],
      "metadata": {}
    },
    {
      "cell_type": "code",
      "source": [],
      "outputs": [],
      "execution_count": null,
      "metadata": {
        "gather": {
          "logged": 1598431435189
        },
        "jupyter": {
          "outputs_hidden": false,
          "source_hidden": false
        },
        "nteract": {
          "transient": {
            "deleting": false
          }
        }
      }
    },
    {
      "cell_type": "markdown",
      "source": [
        "TODO: In the cell below, send a request to the web service you deployed to test it."
      ],
      "metadata": {
        "collapsed": true,
        "gather": {
          "logged": 1598431657736
        },
        "jupyter": {
          "outputs_hidden": false,
          "source_hidden": false
        },
        "nteract": {
          "transient": {
            "deleting": false
          }
        }
      }
    },
    {
      "cell_type": "code",
      "source": [],
      "outputs": [],
      "execution_count": null,
      "metadata": {
        "gather": {
          "logged": 1598432707604
        },
        "jupyter": {
          "outputs_hidden": false,
          "source_hidden": false
        },
        "nteract": {
          "transient": {
            "deleting": false
          }
        }
      }
    },
    {
      "cell_type": "markdown",
      "source": [
        "TODO: In the cell below, print the logs of the web service and delete the service"
      ],
      "metadata": {
        "collapsed": true,
        "gather": {
          "logged": 1598432765711
        },
        "jupyter": {
          "outputs_hidden": false,
          "source_hidden": false
        },
        "nteract": {
          "transient": {
            "deleting": false
          }
        }
      }
    },
    {
      "cell_type": "code",
      "source": [],
      "outputs": [],
      "execution_count": null,
      "metadata": {
        "jupyter": {
          "outputs_hidden": false,
          "source_hidden": false
        },
        "nteract": {
          "transient": {
            "deleting": false
          }
        }
      }
    },
    {
      "cell_type": "markdown",
      "source": [
        "**Submission Checklist**\n",
        "- I have registered the model.\n",
        "- I have deployed the model with the best accuracy as a webservice.\n",
        "- I have tested the webservice by sending a request to the model endpoint.\n",
        "- I have deleted the webservice and shutdown all the computes that I have used.\n",
        "- I have taken a screenshot showing the model endpoint as active.\n",
        "- The project includes a file containing the environment details.\n"
      ],
      "metadata": {}
    },
    {
      "cell_type": "markdown",
      "source": [],
      "metadata": {}
    }
  ],
  "metadata": {
    "kernel_info": {
      "name": "python3"
    },
    "kernelspec": {
      "name": "python3",
      "language": "python",
      "display_name": "Python 3"
    },
    "language_info": {
      "name": "python",
      "version": "3.8.1",
      "mimetype": "text/x-python",
      "codemirror_mode": {
        "name": "ipython",
        "version": 3
      },
      "pygments_lexer": "ipython3",
      "nbconvert_exporter": "python",
      "file_extension": ".py"
    },
    "nteract": {
      "version": "nteract-front-end@1.0.0"
    },
    "microsoft": {
      "host": {
        "AzureML": {
          "notebookHasBeenCompleted": true
        }
      }
    }
  },
  "nbformat": 4,
  "nbformat_minor": 2
}